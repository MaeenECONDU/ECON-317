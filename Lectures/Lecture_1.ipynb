{
 "cells": [
  {
   "cell_type": "markdown",
   "id": "da52f48d-cc6d-4f64-8620-96fc405be43d",
   "metadata": {},
   "source": [
    "## Python\n",
    "![logo](python_logo.png \"logo\")\n",
    "\n",
    "It was designed by **Guido van Rossum**, a Dutch programmer\n",
    "\n",
    "![Rossum](rossum.png \"Guido van Rossum\")\n",
    "\n",
    "#### Why Python?\n",
    "* You can build almost anything using Python. \n",
    "* Updated and new statistical techniques for social sciences are being implemented as Python packages. So, it is universal. \n",
    "* It is FREE!!!\n",
    "* Most popular because of its simplicity and less steeper learning curve than other languages\n",
    "* Enables easy collaboration among natural, social and data scientists.\n"
   ]
  },
  {
   "cell_type": "markdown",
   "id": "0faa014f-7689-4c9c-bb60-606d2aed228a",
   "metadata": {},
   "source": [
    "### Jupyter Notebook\n",
    "![Jupyter](jupyter.png \"Jupyter Notebook\")\n",
    "\n",
    "* It is an open-source web platform designed for the creation and sharing of documents that include texts, codes and visual contents.\n",
    "* It supports more than 40 programming languages.\n",
    "* Notebook files have .ipynb extension and can be easily shared in GitHub\n",
    "\n",
    "#### Markdown \n",
    "* It is a markup language that can be converted to HTML or other formats. \n",
    "\n",
    "#### Launching Jupyter Notebook\n",
    "* Anaconda Navigator, or\n",
    "* Typing 'jupyter notebook' in Terminal/PowerShell "
   ]
  },
  {
   "cell_type": "markdown",
   "id": "a0a5531e-4a8e-4a29-8323-2865d237ace3",
   "metadata": {},
   "source": [
    "### GitHub\n",
    "![GutHub Octocat](git_icon.jpg \"GutHub Octocat\")\n",
    "\n",
    "* GitHub is a code hosting platform for version control and collaboration\n",
    "* It was created by Linus Torvalds in 2005 and Microsoft bought it in 2018\n",
    "\n",
    "#### Getting Started\n",
    "* Creating account on https://github.com/\n",
    "* Options to interact with it, \n",
    "1. Command line\n",
    "2. Github Desktop \n",
    "\n",
    "#### What is Command Line?\n",
    "* Terminal = Console = Power Shell = Command Line = Command Prompt\n",
    "* Platform to access files, run programs, and execute commands\n",
    "* Provides scripts for reproducible workflows across different operating systems"
   ]
  },
  {
   "cell_type": "markdown",
   "id": "a14e90ed-a3ab-4690-9cef-538090b31d86",
   "metadata": {},
   "source": [
    "#### Course of action for the students of ECON 317:\n",
    "1. Go to https://www.python.org/. Download and install Python.\n",
    "2. Open the installer and click on 'Add python.exe to path'.\n",
    "3. Go with the default option and install python.\n",
    "4. Go to terminal/ PowerShell and type 'Python --version' to check if it is installed or not.\n",
    "5. If installed properly it will show the Python version.\n",
    "6. If not it will show an error. In that case, go to the Python folder and copy the path.\n",
    "7. Also copy the script folder path.\n",
    "8. Then go the environment and paste this two paths in the path list by clicking edit.\n",
    "9. Then again check the python version using terminal/PowerShell\n",
    "    \n",
    "10. Now we will install Jupyter Notebook using pip command. Pip is included in the Python installation process. So it should work by default.\n",
    "11. In the terminal/PowerShell type 'pip install jupyter' and press enter.\n",
    "12. Now check 'jupyter-- version'. If installed properly you will get the version displayed. Otherwise, navigate to the jupyter folder and paste the paths in the environment variables, just the way it should be done for python.\n",
    "    \n",
    "13. Go to https://github.com/ (https://github.com/) and make an account. \n",
    "14. Post the name of your GitHub account in the google form supplied in the classroom.\n",
    "15. Download and install GitHub desktop.\n",
    "16. Go to https://github.com/TAD600/ECON-317\n",
    "17. Click on the **Code** tab in green color and then click 'Clone using the web URL.'\n",
    "18. It will open GitHub Desktop. Then clone the repository to a folder you want to have your course materials in.\n",
    "19. If you copy paste of the path of your cloned repository folder and in ther terminal/PowerShell you type cd \"path\" and press enter, it will set the path to your repository.\n",
    "20. Then type jupyter notebook and press enter. It will open your explorer to the browser you are correctly working on.\n",
    "21. Find the Lecture1.ipynb file and click it. Here you are!!!\n",
    "22. Now we are on the same page. \n",
    "\n",
    "*Reference: This YouTube video is quite easy to follow https://www.youtube.com/watch?v=HLD-Ll_-IT4&t=3s*"
   ]
  },
  {
   "cell_type": "markdown",
   "id": "a407e4a7-486f-45f7-84c5-3838e6a7f478",
   "metadata": {},
   "source": [
    "#### Jupyter Notebook Keyboard Shortcuts:\n",
    "* Ctrl + Enter --> runs command\n",
    "* Ctrl + Z --> Undo\n",
    "* Shit + # --> commenting out a code\n",
    "* Ctrl + / --> uncomment\n",
    "* Alt + Enter --> run the current cell and enter a new cell below\n",
    "* Shift + Enter --> run the current cell and select the cell below\n",
    "* \n",
    "**Basic rules of markdown**  [cheatsheet](https://github.com/adam-p/markdown-here/wiki/Markdown-Cheatsheet)\n",
    "* For mac users 'Ctrl' should be substituted with 'command'"
   ]
  },
  {
   "cell_type": "code",
   "execution_count": null,
   "id": "6dbe427a-f963-4279-a530-bc7ca2b99d06",
   "metadata": {},
   "outputs": [],
   "source": []
  },
  {
   "cell_type": "code",
   "execution_count": null,
   "id": "f287d105-4657-4d01-88c3-69435fd1cee9",
   "metadata": {},
   "outputs": [],
   "source": []
  }
 ],
 "metadata": {
  "kernelspec": {
   "display_name": "Python 3 (ipykernel)",
   "language": "python",
   "name": "python3"
  },
  "language_info": {
   "codemirror_mode": {
    "name": "ipython",
    "version": 3
   },
   "file_extension": ".py",
   "mimetype": "text/x-python",
   "name": "python",
   "nbconvert_exporter": "python",
   "pygments_lexer": "ipython3",
   "version": "3.12.7"
  }
 },
 "nbformat": 4,
 "nbformat_minor": 5
}
