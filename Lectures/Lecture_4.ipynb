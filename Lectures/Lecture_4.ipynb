{
 "cells": [
  {
   "cell_type": "code",
   "execution_count": 2,
   "id": "f9152b96-f5ee-4f81-a03e-94b39f009cbd",
   "metadata": {},
   "outputs": [],
   "source": [
    "# creating lists\n",
    "row1 = ['BD', 'Dhaka', 0.0, 75, 1972]\n",
    "row2 = ['IND', 'Delhi', 0.1, 70, 1948]"
   ]
  },
  {
   "cell_type": "code",
   "execution_count": 3,
   "id": "9b8c7b6c-3949-46e8-9937-e07cf0c4eb78",
   "metadata": {},
   "outputs": [],
   "source": [
    "# creating lists of list\n",
    "data = [row1, row2]"
   ]
  },
  {
   "cell_type": "code",
   "execution_count": 4,
   "id": "f0ac171b-8b43-48ea-a8f1-3bbcca5b0486",
   "metadata": {},
   "outputs": [
    {
     "data": {
      "text/plain": [
       "['IND', 'Delhi', 0.1, 70, 1948]"
      ]
     },
     "execution_count": 4,
     "metadata": {},
     "output_type": "execute_result"
    }
   ],
   "source": [
    "data[1]"
   ]
  },
  {
   "cell_type": "code",
   "execution_count": 5,
   "id": "8afb07f6-3d87-4431-b7c6-67dbe3914500",
   "metadata": {},
   "outputs": [],
   "source": [
    "# seeking an element from a list\n",
    "first_row = data[0]"
   ]
  },
  {
   "cell_type": "code",
   "execution_count": 6,
   "id": "24a19c56-2760-4e25-b0ee-ca31fe558daf",
   "metadata": {},
   "outputs": [
    {
     "data": {
      "text/plain": [
       "['BD', 'Dhaka', 0.0, 75, 1972]"
      ]
     },
     "execution_count": 6,
     "metadata": {},
     "output_type": "execute_result"
    }
   ],
   "source": [
    "first_row"
   ]
  },
  {
   "cell_type": "code",
   "execution_count": 7,
   "id": "464ca64a-9006-44d6-8a1e-9a2b169058b3",
   "metadata": {},
   "outputs": [],
   "source": [
    "first_element_in_first_row = first_row[0]"
   ]
  },
  {
   "cell_type": "code",
   "execution_count": 8,
   "id": "bcc95baf-c0f6-468e-9425-e2782a8fc3c3",
   "metadata": {},
   "outputs": [
    {
     "data": {
      "text/plain": [
       "'BD'"
      ]
     },
     "execution_count": 8,
     "metadata": {},
     "output_type": "execute_result"
    }
   ],
   "source": [
    "first_element_in_first_row"
   ]
  },
  {
   "cell_type": "code",
   "execution_count": 9,
   "id": "47662e5e-feac-495e-9e53-a210e4ec351b",
   "metadata": {},
   "outputs": [
    {
     "data": {
      "text/plain": [
       "1948"
      ]
     },
     "execution_count": 9,
     "metadata": {},
     "output_type": "execute_result"
    }
   ],
   "source": [
    "data[1][-1]"
   ]
  },
  {
   "cell_type": "code",
   "execution_count": 10,
   "id": "226cfbaf-dda9-4484-986f-b6d32d693b14",
   "metadata": {},
   "outputs": [],
   "source": [
    "# Or\n",
    "first_element_in_first_row = data[0][0]"
   ]
  },
  {
   "cell_type": "code",
   "execution_count": 11,
   "id": "6e7aed79-35f1-4afd-b13e-938cbac3e349",
   "metadata": {},
   "outputs": [],
   "source": [
    "last_element_in_first_row = first_row[-1]"
   ]
  },
  {
   "cell_type": "code",
   "execution_count": 12,
   "id": "dffd606d-75c9-4cf3-b152-ee33b94ac1cc",
   "metadata": {},
   "outputs": [
    {
     "data": {
      "text/plain": [
       "1972"
      ]
     },
     "execution_count": 12,
     "metadata": {},
     "output_type": "execute_result"
    }
   ],
   "source": [
    "last_element_in_first_row"
   ]
  },
  {
   "cell_type": "code",
   "execution_count": 13,
   "id": "535b88e4-2333-487f-b22b-24f112e647fb",
   "metadata": {},
   "outputs": [],
   "source": [
    "# Or\n",
    "last_element_in_first_row = data[0][-1]"
   ]
  },
  {
   "cell_type": "code",
   "execution_count": 14,
   "id": "6a185a61-e2db-4d8c-ab2a-af3cee771246",
   "metadata": {},
   "outputs": [
    {
     "data": {
      "text/plain": [
       "1972"
      ]
     },
     "execution_count": 14,
     "metadata": {},
     "output_type": "execute_result"
    }
   ],
   "source": [
    "last_element_in_first_row"
   ]
  },
  {
   "cell_type": "code",
   "execution_count": 15,
   "id": "0496c9ee-6706-4b6d-92ee-5461037f3e7d",
   "metadata": {},
   "outputs": [],
   "source": [
    "# Seeking multiple list elements and creating a new list\n",
    "# Only country name and year of independence 'c'\n",
    "c = [row1[0], row2[0]]"
   ]
  },
  {
   "cell_type": "code",
   "execution_count": 16,
   "id": "a606e537-16f7-4f79-a742-7a5aea70e722",
   "metadata": {},
   "outputs": [
    {
     "data": {
      "text/plain": [
       "['BD', 'IND']"
      ]
     },
     "execution_count": 16,
     "metadata": {},
     "output_type": "execute_result"
    }
   ],
   "source": [
    "c"
   ]
  },
  {
   "cell_type": "code",
   "execution_count": 17,
   "id": "bd0132a2-559e-41da-803e-f1acd7e6cc74",
   "metadata": {},
   "outputs": [],
   "source": [
    "# slicing a list\n",
    "second_to_fourth_element = row1[1:4]"
   ]
  },
  {
   "cell_type": "code",
   "execution_count": 18,
   "id": "1bf0ddd7-00e4-4b0c-9b32-d9a307991281",
   "metadata": {},
   "outputs": [
    {
     "data": {
      "text/plain": [
       "['Dhaka', 0.0, 75]"
      ]
     },
     "execution_count": 18,
     "metadata": {},
     "output_type": "execute_result"
    }
   ],
   "source": [
    "second_to_fourth_element"
   ]
  },
  {
   "cell_type": "markdown",
   "id": "cd524f29-08cd-4e2f-a849-45a3178f5690",
   "metadata": {},
   "source": [
    "### Opening a data set and accessing it with list method\n",
    "Dataset comes from 'Kaggle'"
   ]
  },
  {
   "cell_type": "code",
   "execution_count": 19,
   "id": "a03162cc-d955-41e8-93b2-684e50c01d43",
   "metadata": {},
   "outputs": [],
   "source": [
    "open_file = open('AppleStore.csv') # a built-in function in python"
   ]
  },
  {
   "cell_type": "code",
   "execution_count": 20,
   "id": "484bdbaa-086e-4953-999f-91a0dedc68e5",
   "metadata": {},
   "outputs": [
    {
     "data": {
      "text/plain": [
       "<_io.TextIOWrapper name='AppleStore.csv' mode='r' encoding='cp1252'>"
      ]
     },
     "execution_count": 20,
     "metadata": {},
     "output_type": "execute_result"
    }
   ],
   "source": [
    "open_file"
   ]
  },
  {
   "cell_type": "code",
   "execution_count": 21,
   "id": "c1144bd9-4d8d-424d-a38a-c5d0f36a6fa4",
   "metadata": {},
   "outputs": [],
   "source": [
    "from csv import reader"
   ]
  },
  {
   "cell_type": "code",
   "execution_count": 22,
   "id": "baebee57-c03f-4578-a251-0424762aa397",
   "metadata": {},
   "outputs": [],
   "source": [
    "read_file = reader(open_file)"
   ]
  },
  {
   "cell_type": "code",
   "execution_count": 23,
   "id": "1b903b23-1da7-45d7-ae4e-3d09994f435f",
   "metadata": {},
   "outputs": [
    {
     "data": {
      "text/plain": [
       "<_csv.reader at 0x236f54daa40>"
      ]
     },
     "execution_count": 23,
     "metadata": {},
     "output_type": "execute_result"
    }
   ],
   "source": [
    "read_file"
   ]
  },
  {
   "cell_type": "code",
   "execution_count": 24,
   "id": "ce166e50-0342-447e-87c7-5d8258a5bd44",
   "metadata": {},
   "outputs": [
    {
     "data": {
      "text/plain": [
       "_csv.reader"
      ]
     },
     "execution_count": 24,
     "metadata": {},
     "output_type": "execute_result"
    }
   ],
   "source": [
    "type(read_file)"
   ]
  },
  {
   "cell_type": "code",
   "execution_count": 25,
   "id": "584d850f-f76c-4eb2-853a-2e2a85f1277f",
   "metadata": {},
   "outputs": [
    {
     "ename": "UnicodeDecodeError",
     "evalue": "'charmap' codec can't decode byte 0x81 in position 1759: character maps to <undefined>",
     "output_type": "error",
     "traceback": [
      "\u001b[1;31m---------------------------------------------------------------------------\u001b[0m",
      "\u001b[1;31mUnicodeDecodeError\u001b[0m                        Traceback (most recent call last)",
      "Cell \u001b[1;32mIn[25], line 1\u001b[0m\n\u001b[1;32m----> 1\u001b[0m apps_data \u001b[38;5;241m=\u001b[39m \u001b[38;5;28mlist\u001b[39m(read_file)\n",
      "File \u001b[1;32m~\\anaconda3\\Lib\\encodings\\cp1252.py:23\u001b[0m, in \u001b[0;36mIncrementalDecoder.decode\u001b[1;34m(self, input, final)\u001b[0m\n\u001b[0;32m     22\u001b[0m \u001b[38;5;28;01mdef\u001b[39;00m \u001b[38;5;21mdecode\u001b[39m(\u001b[38;5;28mself\u001b[39m, \u001b[38;5;28minput\u001b[39m, final\u001b[38;5;241m=\u001b[39m\u001b[38;5;28;01mFalse\u001b[39;00m):\n\u001b[1;32m---> 23\u001b[0m     \u001b[38;5;28;01mreturn\u001b[39;00m codecs\u001b[38;5;241m.\u001b[39mcharmap_decode(\u001b[38;5;28minput\u001b[39m,\u001b[38;5;28mself\u001b[39m\u001b[38;5;241m.\u001b[39merrors,decoding_table)[\u001b[38;5;241m0\u001b[39m]\n",
      "\u001b[1;31mUnicodeDecodeError\u001b[0m: 'charmap' codec can't decode byte 0x81 in position 1759: character maps to <undefined>"
     ]
    }
   ],
   "source": [
    "apps_data = list(read_file)"
   ]
  },
  {
   "cell_type": "code",
   "execution_count": 26,
   "id": "a3c3669b-7c80-406e-874f-07dad3b95187",
   "metadata": {},
   "outputs": [],
   "source": [
    "opened_file = open('AppleStore.csv', encoding='utf-8')\n",
    "read_file = reader(opened_file)\n",
    "apps_data = list(read_file)"
   ]
  },
  {
   "cell_type": "code",
   "execution_count": 27,
   "id": "436a6e6f-3756-4d49-ad86-6ec8a1360600",
   "metadata": {},
   "outputs": [
    {
     "data": {
      "text/plain": [
       "list"
      ]
     },
     "execution_count": 27,
     "metadata": {},
     "output_type": "execute_result"
    }
   ],
   "source": [
    "type(apps_data)"
   ]
  },
  {
   "cell_type": "code",
   "execution_count": 28,
   "id": "5453467c-fbc3-43b5-8bf6-59ecc1098b61",
   "metadata": {},
   "outputs": [
    {
     "data": {
      "text/plain": [
       "['id',\n",
       " 'track_name',\n",
       " 'size_bytes',\n",
       " 'currency',\n",
       " 'price',\n",
       " 'rating_count_tot',\n",
       " 'rating_count_ver',\n",
       " 'user_rating',\n",
       " 'user_rating_ver',\n",
       " 'ver',\n",
       " 'cont_rating',\n",
       " 'prime_genre',\n",
       " 'sup_devices.num',\n",
       " 'ipadSc_urls.num',\n",
       " 'lang.num',\n",
       " 'vpp_lic']"
      ]
     },
     "execution_count": 28,
     "metadata": {},
     "output_type": "execute_result"
    }
   ],
   "source": [
    "apps_data[0]"
   ]
  },
  {
   "cell_type": "code",
   "execution_count": 29,
   "id": "ae020437-774c-498c-ab20-8f5e46c28b60",
   "metadata": {},
   "outputs": [
    {
     "data": {
      "text/plain": [
       "['389801252',\n",
       " 'Instagram',\n",
       " '113954816',\n",
       " 'USD',\n",
       " '0',\n",
       " '2161558',\n",
       " '1289',\n",
       " '4.5',\n",
       " '4',\n",
       " '10.23',\n",
       " '12+',\n",
       " 'Photo & Video',\n",
       " '37',\n",
       " '0',\n",
       " '29',\n",
       " '1']"
      ]
     },
     "execution_count": 29,
     "metadata": {},
     "output_type": "execute_result"
    }
   ],
   "source": [
    "apps_data[2]"
   ]
  },
  {
   "cell_type": "code",
   "execution_count": 30,
   "id": "f48da797-1af4-4e50-b195-a9bf9c8048c6",
   "metadata": {},
   "outputs": [
    {
     "data": {
      "text/plain": [
       "7198"
      ]
     },
     "execution_count": 30,
     "metadata": {},
     "output_type": "execute_result"
    }
   ],
   "source": [
    "len(apps_data)"
   ]
  },
  {
   "cell_type": "markdown",
   "id": "c7e51e35-01dc-4eaa-98d3-67255209c409",
   "metadata": {},
   "source": [
    "* More practice and examples problems on list: **https://docs.python.org/3/tutorial/introduction.html#lists**"
   ]
  },
  {
   "cell_type": "markdown",
   "id": "2d1ee62c-7fc3-452b-b7da-f2dcd83a0467",
   "metadata": {},
   "source": [
    "### Conditional Statements\n",
    "* if , else , elif"
   ]
  },
  {
   "cell_type": "code",
   "execution_count": 31,
   "id": "ed6f2700-560f-498d-a1ab-2f1e1b13fa49",
   "metadata": {},
   "outputs": [
    {
     "ename": "IndentationError",
     "evalue": "expected an indented block after 'if' statement on line 2 (2878706004.py, line 3)",
     "output_type": "error",
     "traceback": [
      "\u001b[1;36m  Cell \u001b[1;32mIn[31], line 3\u001b[1;36m\u001b[0m\n\u001b[1;33m    print(\"z is even\")\u001b[0m\n\u001b[1;37m    ^\u001b[0m\n\u001b[1;31mIndentationError\u001b[0m\u001b[1;31m:\u001b[0m expected an indented block after 'if' statement on line 2\n"
     ]
    }
   ],
   "source": [
    "z = 4\n",
    "if z % 2 == 0 : \n",
    "print(\"z is even\")"
   ]
  },
  {
   "cell_type": "code",
   "execution_count": 32,
   "id": "9dcca3ea-fbb0-4af3-97c6-79a79b9ac5bd",
   "metadata": {},
   "outputs": [
    {
     "name": "stdout",
     "output_type": "stream",
     "text": [
      "z is even\n"
     ]
    }
   ],
   "source": [
    "z = 4\n",
    "if z % 2 == 0 : \n",
    "    print(\"z is even\")"
   ]
  },
  {
   "cell_type": "code",
   "execution_count": 33,
   "id": "dd711aac-1c88-43af-a0df-cbfa67c18c89",
   "metadata": {},
   "outputs": [
    {
     "name": "stdout",
     "output_type": "stream",
     "text": [
      "z is even\n"
     ]
    }
   ],
   "source": [
    "z = 4\n",
    "if z % 2 == 0 : \n",
    "    print(\"z is even\")"
   ]
  },
  {
   "cell_type": "code",
   "execution_count": 34,
   "id": "a1eda709-4f00-4a63-abbe-28c0ff954b0f",
   "metadata": {},
   "outputs": [],
   "source": [
    "z = 5\n",
    "if z % 2 == 0 : \n",
    "    print(\"z is even\")"
   ]
  },
  {
   "cell_type": "code",
   "execution_count": 35,
   "id": "9b22454b-48c7-4622-9fac-b9e308587f96",
   "metadata": {},
   "outputs": [
    {
     "name": "stdout",
     "output_type": "stream",
     "text": [
      "z is odd\n"
     ]
    }
   ],
   "source": [
    "z = 5\n",
    "if z % 2 == 0 : \n",
    "    print(\"z is even\")\n",
    "else :\n",
    "    print(\"z is odd\")"
   ]
  },
  {
   "cell_type": "code",
   "execution_count": 36,
   "id": "bfd2d360-d509-4407-9b21-1d3c51eaaacf",
   "metadata": {},
   "outputs": [
    {
     "name": "stdout",
     "output_type": "stream",
     "text": [
      "z is divisible by 3\n"
     ]
    }
   ],
   "source": [
    "z = 9\n",
    "if z % 2 == 0 :\n",
    "    print(\"z is divisible by 2\") \n",
    "elif z % 3 == 0 :\n",
    "    print(\"z is divisible by 3\") \n",
    "else :\n",
    "    print(\"z is neither divisible by 2 nor by 3\")"
   ]
  },
  {
   "cell_type": "code",
   "execution_count": 37,
   "id": "6b112a23-50bd-4347-81b8-8e3887b1b1e3",
   "metadata": {},
   "outputs": [
    {
     "name": "stdout",
     "output_type": "stream",
     "text": [
      "Both conditions are true!\n"
     ]
    }
   ],
   "source": [
    "# Combining multiple conditions\n",
    "if 3 > 1 and 'data' == 'data':\n",
    "    print('Both conditions are true!')"
   ]
  },
  {
   "cell_type": "code",
   "execution_count": 38,
   "id": "53323c85-93cb-4ed4-a442-0a660589906f",
   "metadata": {},
   "outputs": [
    {
     "name": "stdout",
     "output_type": "stream",
     "text": [
      "At least one condition is true.\n"
     ]
    }
   ],
   "source": [
    "if 10 < 20 or 4 <= 5:\n",
    "    print('At least one condition is true.')"
   ]
  },
  {
   "cell_type": "code",
   "execution_count": 39,
   "id": "f5b97c2e-4605-4611-a8ed-99da1b0d34e3",
   "metadata": {},
   "outputs": [
    {
     "name": "stdout",
     "output_type": "stream",
     "text": [
      "Both condition is true.\n"
     ]
    }
   ],
   "source": [
    "if 10 < 20 and 4 <= 5:\n",
    "    print('Both condition is true.')"
   ]
  },
  {
   "cell_type": "markdown",
   "id": "2de2513d-3a78-4536-914c-daa4d2ec7054",
   "metadata": {},
   "source": [
    "* More practice and example on if,else statement: **https://docs.python.org/3/tutorial/controlflow.html#if-statements**"
   ]
  },
  {
   "cell_type": "markdown",
   "id": "87e1d424-f713-4053-8e61-37c962a520ce",
   "metadata": {},
   "source": [
    "# For loop"
   ]
  },
  {
   "cell_type": "code",
   "execution_count": 40,
   "id": "9fd3a8d4-5c19-41d0-9eea-9c3634b43015",
   "metadata": {},
   "outputs": [
    {
     "name": "stdout",
     "output_type": "stream",
     "text": [
      "B\n",
      "A\n",
      "N\n",
      "G\n",
      "L\n",
      "A\n",
      "D\n",
      "E\n",
      "S\n",
      "H\n"
     ]
    }
   ],
   "source": [
    "for letter in \"bangladesh\" :\n",
    "    print(letter.capitalize())"
   ]
  },
  {
   "cell_type": "code",
   "execution_count": 41,
   "id": "483e25ca-dcc5-48fd-94a1-3be8c9be7338",
   "metadata": {},
   "outputs": [],
   "source": [
    "name = \"bangladesh\""
   ]
  },
  {
   "cell_type": "code",
   "execution_count": 42,
   "id": "c2fb8fb5-a7e0-4c55-bfac-049a39b7e14b",
   "metadata": {},
   "outputs": [
    {
     "data": {
      "text/plain": [
       "'Bangladesh'"
      ]
     },
     "execution_count": 42,
     "metadata": {},
     "output_type": "execute_result"
    }
   ],
   "source": [
    "name.capitalize()"
   ]
  },
  {
   "cell_type": "code",
   "execution_count": 43,
   "id": "080c53a5-bdda-461e-9f5e-3a3fca93a420",
   "metadata": {},
   "outputs": [
    {
     "data": {
      "text/plain": [
       "'BANGLADESH'"
      ]
     },
     "execution_count": 43,
     "metadata": {},
     "output_type": "execute_result"
    }
   ],
   "source": [
    "name.upper()"
   ]
  },
  {
   "cell_type": "markdown",
   "id": "fb03a1cf-616e-4522-a038-15f8f23e1730",
   "metadata": {},
   "source": [
    "#### For loops in list"
   ]
  },
  {
   "cell_type": "code",
   "execution_count": 44,
   "id": "95a68cfd-13b2-47b6-bfef-7fda35bea834",
   "metadata": {},
   "outputs": [],
   "source": [
    "fam = [1.73, 1.68, 1.71, 1.89]"
   ]
  },
  {
   "cell_type": "code",
   "execution_count": 45,
   "id": "a47ff032-16ac-4532-a979-cb09a9846937",
   "metadata": {},
   "outputs": [
    {
     "name": "stdout",
     "output_type": "stream",
     "text": [
      "1.73\n",
      "1.68\n",
      "1.71\n",
      "1.89\n"
     ]
    }
   ],
   "source": [
    "print(fam[0])\n",
    "print(fam[1])\n",
    "print(fam[2])\n",
    "print(fam[3])"
   ]
  },
  {
   "cell_type": "code",
   "execution_count": 46,
   "id": "7a41cddc-11c9-44d6-87da-2be80970e8b9",
   "metadata": {},
   "outputs": [
    {
     "name": "stdout",
     "output_type": "stream",
     "text": [
      "1.73\n",
      "1.68\n",
      "1.71\n",
      "1.89\n"
     ]
    }
   ],
   "source": [
    "for apple in fam :\n",
    "    print(apple)"
   ]
  },
  {
   "cell_type": "code",
   "execution_count": 47,
   "id": "a2ae28b8-5827-4bbb-b78c-ce704ff851c3",
   "metadata": {},
   "outputs": [
    {
     "name": "stdout",
     "output_type": "stream",
     "text": [
      "0: 1.73\n",
      "1: 1.68\n",
      "2: 1.71\n",
      "3: 1.89\n"
     ]
    }
   ],
   "source": [
    "for index, v in enumerate(fam) :\n",
    "    print(str(index) + \": \" + str(v))"
   ]
  },
  {
   "cell_type": "code",
   "execution_count": 48,
   "id": "85f55821-1359-4da3-9394-33826ef927ef",
   "metadata": {},
   "outputs": [
    {
     "name": "stdout",
     "output_type": "stream",
     "text": [
      "1.73: 0\n",
      "1.68: 1\n",
      "1.71: 2\n",
      "1.89: 3\n"
     ]
    }
   ],
   "source": [
    "for height, index in enumerate(fam) :\n",
    "    print(str(index) + \": \" + str(height))"
   ]
  },
  {
   "cell_type": "code",
   "execution_count": 49,
   "id": "c337f426-9cff-40be-9cb7-3c03fb01a61a",
   "metadata": {},
   "outputs": [
    {
     "name": "stdout",
     "output_type": "stream",
     "text": [
      "Item 0: soup\n",
      "Item 1: rice\n",
      "Item 2: mutton\n"
     ]
    }
   ],
   "source": [
    "menu = [\"soup\", \"rice\", \"mutton\"]\n",
    "for index, food in enumerate(menu):\n",
    "   print(f\"Item {index}: {food}\")"
   ]
  },
  {
   "cell_type": "code",
   "execution_count": 50,
   "id": "61d5015b-4afc-4a73-a281-8ac12e3d408b",
   "metadata": {},
   "outputs": [
    {
     "name": "stdout",
     "output_type": "stream",
     "text": [
      "Item 1: soup\n",
      "Item 2: rice\n",
      "Item 3: mutton\n"
     ]
    }
   ],
   "source": [
    "menu = [\"soup\", \"rice\", \"mutton\"]\n",
    "for index, item in enumerate(menu, start = 1):\n",
    "   print(f\"Item {index}: {item}\")"
   ]
  },
  {
   "cell_type": "code",
   "execution_count": 51,
   "id": "96ac6342-2a30-4b86-aee0-761b333dc504",
   "metadata": {},
   "outputs": [
    {
     "name": "stdout",
     "output_type": "stream",
     "text": [
      "This is odd.\n",
      "This is even.\n",
      "This is odd.\n",
      "This is even.\n",
      "This is odd.\n"
     ]
    }
   ],
   "source": [
    "l = [1, 2, 3, 4, 5]\n",
    "\n",
    "for i in l:\n",
    "    if i % 2 == 0:\n",
    "        print(\"This is even.\")\n",
    "    else: \n",
    "        print(\"This is odd.\")"
   ]
  },
  {
   "cell_type": "markdown",
   "id": "683ce3eb-7abd-4d27-94bf-98fce657d9f8",
   "metadata": {},
   "source": [
    "### Accessing nested list element using for loops"
   ]
  },
  {
   "cell_type": "code",
   "execution_count": 52,
   "id": "1d3d7854-1b4e-48a5-b06d-96db003f5ef3",
   "metadata": {},
   "outputs": [
    {
     "name": "stdout",
     "output_type": "stream",
     "text": [
      "['BD', 'Dhaka', 0.0, 75, 1972]\n",
      "['IND', 'Delhi', 0.1, 70, 1948]\n"
     ]
    }
   ],
   "source": [
    "for k in data:\n",
    "    print(k)"
   ]
  },
  {
   "cell_type": "code",
   "execution_count": 53,
   "id": "f27642ee-5a83-468a-9734-58b94ca8738b",
   "metadata": {},
   "outputs": [
    {
     "name": "stdout",
     "output_type": "stream",
     "text": [
      "[['Facebook', 0.0, 'free'], ['Notion', 14.99, 'affordable'], ['Astropad Standard', 29.99, 'expensive'], ['NAVIGON Europe', 74.99, 'very expensive']]\n"
     ]
    }
   ],
   "source": [
    "apps_list = [['Facebook', 0.0], ['Notion', 14.99], ['Astropad Standard', 29.99], ['NAVIGON Europe', 74.99]]\n",
    "\n",
    "for a in apps_list:\n",
    "    price = a[1]\n",
    "    if price == 0.0:\n",
    "        a.append('free')\n",
    "    elif price > 0.0 and price < 20:\n",
    "        a.append('affordable')\n",
    "    elif price >= 20 and price < 50:\n",
    "        a.append('expensive')\n",
    "    elif price >= 50:\n",
    "        a.append('very expensive')\n",
    "print(apps_list)"
   ]
  },
  {
   "cell_type": "markdown",
   "id": "b2639264-2da6-4c29-b419-4302a5a67a24",
   "metadata": {},
   "source": [
    "### Accessing values in a dictionary using for loops"
   ]
  },
  {
   "cell_type": "code",
   "execution_count": 54,
   "id": "b5de1c22-dd23-49e4-b913-56d61fdaac84",
   "metadata": {},
   "outputs": [
    {
     "ename": "ValueError",
     "evalue": "too many values to unpack (expected 2)",
     "output_type": "error",
     "traceback": [
      "\u001b[1;31m---------------------------------------------------------------------------\u001b[0m",
      "\u001b[1;31mValueError\u001b[0m                                Traceback (most recent call last)",
      "Cell \u001b[1;32mIn[54], line 2\u001b[0m\n\u001b[0;32m      1\u001b[0m world \u001b[38;5;241m=\u001b[39m {\u001b[38;5;124m\"\u001b[39m\u001b[38;5;124mindia\u001b[39m\u001b[38;5;124m\"\u001b[39m:\u001b[38;5;241m6.5\u001b[39m, \u001b[38;5;124m\"\u001b[39m\u001b[38;5;124mbangladesh\u001b[39m\u001b[38;5;124m\"\u001b[39m:\u001b[38;5;241m4.2\u001b[39m, \u001b[38;5;124m\"\u001b[39m\u001b[38;5;124mchina\u001b[39m\u001b[38;5;124m\"\u001b[39m:\u001b[38;5;241m5.0\u001b[39m}\n\u001b[1;32m----> 2\u001b[0m \u001b[38;5;28;01mfor\u001b[39;00m key, value \u001b[38;5;129;01min\u001b[39;00m world :\n\u001b[0;32m      3\u001b[0m     \u001b[38;5;28mprint\u001b[39m(key \u001b[38;5;241m+\u001b[39m \u001b[38;5;124m\"\u001b[39m\u001b[38;5;124m -- \u001b[39m\u001b[38;5;124m\"\u001b[39m \u001b[38;5;241m+\u001b[39m \u001b[38;5;28mstr\u001b[39m(value))\n",
      "\u001b[1;31mValueError\u001b[0m: too many values to unpack (expected 2)"
     ]
    }
   ],
   "source": [
    "world = {\"india\":6.5, \"bangladesh\":4.2, \"china\":5.0}\n",
    "for key, value in world :\n",
    "    print(key + \" -- \" + str(value))"
   ]
  },
  {
   "cell_type": "code",
   "execution_count": 55,
   "id": "c6d91ddd-293a-49ff-9dfb-a42d5687588e",
   "metadata": {},
   "outputs": [
    {
     "name": "stdout",
     "output_type": "stream",
     "text": [
      "india : 6.5\n",
      "bangladesh : 4.2\n",
      "china : 5.0\n"
     ]
    }
   ],
   "source": [
    "for key, value in world.items() :\n",
    "    print(key + \" : \" + str(value))"
   ]
  },
  {
   "cell_type": "code",
   "execution_count": 56,
   "id": "079352a2-3084-4717-850a-d64d3e18a862",
   "metadata": {},
   "outputs": [
    {
     "name": "stdout",
     "output_type": "stream",
     "text": [
      "Item 0: soup\n",
      "Item 1: rice\n",
      "Item 2: mutton\n"
     ]
    }
   ],
   "source": [
    "menu = [\"soup\", \"rice\", \"mutton\"]\n",
    "for index, item in enumerate(menu):\n",
    "   print(f\"Item {index}: {item}\")"
   ]
  },
  {
   "cell_type": "code",
   "execution_count": 57,
   "id": "0bd23705-da2d-42a2-84b4-4b82114bbff4",
   "metadata": {},
   "outputs": [
    {
     "name": "stdout",
     "output_type": "stream",
     "text": [
      "Item 1: soup\n",
      "Item 2: rice\n",
      "Item 3: mutton\n"
     ]
    }
   ],
   "source": [
    "menu = [\"soup\", \"rice\", \"mutton\"]\n",
    "for index, item in enumerate(menu, start = 1):\n",
    "   print(f\"Item {index}: {item}\")"
   ]
  },
  {
   "cell_type": "markdown",
   "id": "fa7fb1cc-2c26-44c0-856c-e7949fcfc6cf",
   "metadata": {},
   "source": [
    "#### For loops in case of dictionary\n",
    "* for key, val in my_dict.items() :"
   ]
  },
  {
   "cell_type": "code",
   "execution_count": 58,
   "id": "d136f278-b804-4e8e-9c4d-8590a8760ef6",
   "metadata": {},
   "outputs": [
    {
     "ename": "ValueError",
     "evalue": "too many values to unpack (expected 2)",
     "output_type": "error",
     "traceback": [
      "\u001b[1;31m---------------------------------------------------------------------------\u001b[0m",
      "\u001b[1;31mValueError\u001b[0m                                Traceback (most recent call last)",
      "Cell \u001b[1;32mIn[58], line 2\u001b[0m\n\u001b[0;32m      1\u001b[0m world \u001b[38;5;241m=\u001b[39m {\u001b[38;5;124m\"\u001b[39m\u001b[38;5;124mindia\u001b[39m\u001b[38;5;124m\"\u001b[39m:\u001b[38;5;241m6.5\u001b[39m, \u001b[38;5;124m\"\u001b[39m\u001b[38;5;124mbangladesh\u001b[39m\u001b[38;5;124m\"\u001b[39m:\u001b[38;5;241m4.2\u001b[39m, \u001b[38;5;124m\"\u001b[39m\u001b[38;5;124mchina\u001b[39m\u001b[38;5;124m\"\u001b[39m:\u001b[38;5;241m5.0\u001b[39m}\n\u001b[1;32m----> 2\u001b[0m \u001b[38;5;28;01mfor\u001b[39;00m key, value \u001b[38;5;129;01min\u001b[39;00m world :\n\u001b[0;32m      3\u001b[0m     \u001b[38;5;28mprint\u001b[39m(key \u001b[38;5;241m+\u001b[39m \u001b[38;5;124m\"\u001b[39m\u001b[38;5;124m -- \u001b[39m\u001b[38;5;124m\"\u001b[39m \u001b[38;5;241m+\u001b[39m \u001b[38;5;28mstr\u001b[39m(value))\n",
      "\u001b[1;31mValueError\u001b[0m: too many values to unpack (expected 2)"
     ]
    }
   ],
   "source": [
    "world = {\"india\":6.5, \"bangladesh\":4.2, \"china\":5.0}\n",
    "for key, value in world :\n",
    "    print(key + \" -- \" + str(value))"
   ]
  },
  {
   "cell_type": "code",
   "execution_count": 59,
   "id": "ddc34812-d73c-4208-a5e8-c8e6885fa3cb",
   "metadata": {},
   "outputs": [
    {
     "name": "stdout",
     "output_type": "stream",
     "text": [
      "india -- 6.5\n",
      "bangladesh -- 4.2\n",
      "china -- 5.0\n"
     ]
    }
   ],
   "source": [
    "for key, value in world.items() :\n",
    "    print(key + \" -- \" + str(value))"
   ]
  },
  {
   "cell_type": "markdown",
   "id": "0bc9ae11-49ae-4e78-80b1-6059a11a1f11",
   "metadata": {},
   "source": [
    "* More example and practice on for loops. **https://docs.python.org/3/tutorial/controlflow.html#for-statements**"
   ]
  },
  {
   "cell_type": "markdown",
   "id": "53e5706b-6cb0-4bc2-80ce-8b4b9b063894",
   "metadata": {},
   "source": [
    "### Finding apps names"
   ]
  },
  {
   "cell_type": "code",
   "execution_count": 60,
   "id": "a89e9f55-e232-41bd-88a5-686c1e7e0ade",
   "metadata": {},
   "outputs": [
    {
     "data": {
      "text/plain": [
       "[['id',\n",
       "  'track_name',\n",
       "  'size_bytes',\n",
       "  'currency',\n",
       "  'price',\n",
       "  'rating_count_tot',\n",
       "  'rating_count_ver',\n",
       "  'user_rating',\n",
       "  'user_rating_ver',\n",
       "  'ver',\n",
       "  'cont_rating',\n",
       "  'prime_genre',\n",
       "  'sup_devices.num',\n",
       "  'ipadSc_urls.num',\n",
       "  'lang.num',\n",
       "  'vpp_lic'],\n",
       " ['284882215',\n",
       "  'Facebook',\n",
       "  '389879808',\n",
       "  'USD',\n",
       "  '0',\n",
       "  '2974676',\n",
       "  '212',\n",
       "  '3.5',\n",
       "  '3.5',\n",
       "  '95',\n",
       "  '4+',\n",
       "  'Social Networking',\n",
       "  '37',\n",
       "  '1',\n",
       "  '29',\n",
       "  '1']]"
      ]
     },
     "execution_count": 60,
     "metadata": {},
     "output_type": "execute_result"
    }
   ],
   "source": [
    "apps_data[:2]"
   ]
  },
  {
   "cell_type": "code",
   "execution_count": 61,
   "id": "4a445c5b-1165-4e6e-ad28-3d51f332d22f",
   "metadata": {},
   "outputs": [],
   "source": [
    "apps_name = []"
   ]
  },
  {
   "cell_type": "code",
   "execution_count": 62,
   "id": "e5579bea-b5c5-4f53-8162-c3874a12c278",
   "metadata": {},
   "outputs": [],
   "source": [
    "for i in apps_data[1:]:\n",
    "    name = i[1]\n",
    "    apps_name.append(name)"
   ]
  },
  {
   "cell_type": "code",
   "execution_count": 63,
   "id": "737c56ee-246b-4bef-a9b3-c89fa93e9f9d",
   "metadata": {},
   "outputs": [
    {
     "data": {
      "text/plain": [
       "7197"
      ]
     },
     "execution_count": 63,
     "metadata": {},
     "output_type": "execute_result"
    }
   ],
   "source": [
    "len(apps_name)"
   ]
  },
  {
   "cell_type": "code",
   "execution_count": 64,
   "id": "748731d5-33ab-4986-993a-48b7e7f9a421",
   "metadata": {},
   "outputs": [],
   "source": [
    "apps_names = []\n",
    "for row in apps_data[1:]: # iterating from the 2nd list\n",
    "    name = row[1]\n",
    "    apps_names.append(name)"
   ]
  },
  {
   "cell_type": "code",
   "execution_count": 65,
   "id": "87c095ba-65a5-46a5-88ff-d667729c8ded",
   "metadata": {},
   "outputs": [
    {
     "name": "stdout",
     "output_type": "stream",
     "text": [
      "['Facebook', 'Instagram', 'Clash of Clans', 'Temple Run', 'Pandora - Music & Radio', 'Pinterest']\n"
     ]
    }
   ],
   "source": [
    "print(apps_names[:6])"
   ]
  },
  {
   "cell_type": "markdown",
   "id": "9098c625-9d56-4b53-a5e7-f16291e8620c",
   "metadata": {},
   "source": [
    "### Finding out average rating"
   ]
  },
  {
   "cell_type": "code",
   "execution_count": 66,
   "id": "49fd8620-c8a2-45c8-99d0-bd421ac2a327",
   "metadata": {},
   "outputs": [
    {
     "data": {
      "text/plain": [
       "['284882215',\n",
       " 'Facebook',\n",
       " '389879808',\n",
       " 'USD',\n",
       " '0',\n",
       " '2974676',\n",
       " '212',\n",
       " '3.5',\n",
       " '3.5',\n",
       " '95',\n",
       " '4+',\n",
       " 'Social Networking',\n",
       " '37',\n",
       " '1',\n",
       " '29',\n",
       " '1']"
      ]
     },
     "execution_count": 66,
     "metadata": {},
     "output_type": "execute_result"
    }
   ],
   "source": [
    "apps_data[1]"
   ]
  },
  {
   "cell_type": "code",
   "execution_count": 67,
   "id": "69636ef5-74f6-4439-b6c3-5e96a5aafc55",
   "metadata": {},
   "outputs": [
    {
     "data": {
      "text/plain": [
       "str"
      ]
     },
     "execution_count": 67,
     "metadata": {},
     "output_type": "execute_result"
    }
   ],
   "source": [
    "type(apps_data[3][7])"
   ]
  },
  {
   "cell_type": "code",
   "execution_count": 68,
   "id": "263dd33e-3412-44ff-8f86-22cd3dca78c9",
   "metadata": {},
   "outputs": [],
   "source": [
    "all_ratings = []\n",
    "for row in apps_data[1:]:\n",
    "    rating = float(row[7])\n",
    "    all_ratings.append(rating)"
   ]
  },
  {
   "cell_type": "code",
   "execution_count": 69,
   "id": "31b33997-5d16-4a27-9282-006ff5567049",
   "metadata": {},
   "outputs": [
    {
     "data": {
      "text/plain": [
       "7197"
      ]
     },
     "execution_count": 69,
     "metadata": {},
     "output_type": "execute_result"
    }
   ],
   "source": [
    "len(all_ratings)"
   ]
  },
  {
   "cell_type": "code",
   "execution_count": 70,
   "id": "0c035f9e-a544-4d6a-8202-751d8dac0c33",
   "metadata": {},
   "outputs": [],
   "source": [
    "average = sum(all_ratings)/ len(all_ratings)"
   ]
  },
  {
   "cell_type": "code",
   "execution_count": 71,
   "id": "d95809b0-1ab8-4f91-a1fb-0bcdda148bb2",
   "metadata": {},
   "outputs": [],
   "source": [
    "rounded_average = round(average, 2)"
   ]
  },
  {
   "cell_type": "code",
   "execution_count": 72,
   "id": "e41894e9-41a7-4984-8667-33f9301b9135",
   "metadata": {},
   "outputs": [
    {
     "data": {
      "text/plain": [
       "3.53"
      ]
     },
     "execution_count": 72,
     "metadata": {},
     "output_type": "execute_result"
    }
   ],
   "source": [
    "rounded_average"
   ]
  },
  {
   "cell_type": "code",
   "execution_count": 73,
   "id": "62e48778-9b68-4cef-bfc1-5bcbbe8f2d87",
   "metadata": {},
   "outputs": [
    {
     "name": "stdout",
     "output_type": "stream",
     "text": [
      "3.526955675976101\n"
     ]
    }
   ],
   "source": [
    "all_ratings = []\n",
    "for row in apps_data[1:]:\n",
    "    rating = float(row[7])\n",
    "    all_ratings.append(rating)\n",
    "    \n",
    "avg_rating = sum(all_ratings) / len(all_ratings)\n",
    "print(avg_rating)"
   ]
  },
  {
   "cell_type": "markdown",
   "id": "eabde843-e939-4b89-a869-38a470a2e89a",
   "metadata": {},
   "source": [
    "#### Free apps rating"
   ]
  },
  {
   "cell_type": "code",
   "execution_count": 74,
   "id": "c4231546-62a9-4513-ab32-7d82d4379ff0",
   "metadata": {},
   "outputs": [
    {
     "name": "stdout",
     "output_type": "stream",
     "text": [
      "3.3767258382642997\n"
     ]
    }
   ],
   "source": [
    "free_apps_ratings = []\n",
    "\n",
    "for row in apps_data[1:]:\n",
    "    rating = float(row[7])\n",
    "    price = float(row[4])   \n",
    "    if price == 0.0:\n",
    "        free_apps_ratings.append(rating)\n",
    "        \n",
    "    \n",
    "avg_rating_free = sum(free_apps_ratings) / len(free_apps_ratings)\n",
    "print(avg_rating_free)"
   ]
  },
  {
   "cell_type": "code",
   "execution_count": 75,
   "id": "d4a4d7c9-169a-4953-8b10-c85493f7c111",
   "metadata": {},
   "outputs": [
    {
     "data": {
      "text/plain": [
       "4056"
      ]
     },
     "execution_count": 75,
     "metadata": {},
     "output_type": "execute_result"
    }
   ],
   "source": [
    "len(free_apps_ratings)"
   ]
  },
  {
   "cell_type": "markdown",
   "id": "4367808c-be3d-439e-bd46-8a5f6c4c9d5a",
   "metadata": {},
   "source": [
    "#### Non free apps rating"
   ]
  },
  {
   "cell_type": "code",
   "execution_count": 76,
   "id": "5b9d49ad-908a-4e1f-afe4-5f49a650820e",
   "metadata": {},
   "outputs": [
    {
     "name": "stdout",
     "output_type": "stream",
     "text": [
      "3.720948742438714\n"
     ]
    }
   ],
   "source": [
    "non_free_apps_ratings = []\n",
    "for row in apps_data[1:]:\n",
    "    rating = float(row[7])\n",
    "    price = float(row[4])\n",
    "    if price != 0.0:\n",
    "        non_free_apps_ratings.append(rating)\n",
    "        \n",
    "avg_rating_non_free = sum(non_free_apps_ratings) / len(non_free_apps_ratings)\n",
    "print(avg_rating_non_free)"
   ]
  },
  {
   "cell_type": "code",
   "execution_count": 77,
   "id": "17d59864-b1b8-4d60-88c4-fb3fd32fb1db",
   "metadata": {},
   "outputs": [
    {
     "name": "stdout",
     "output_type": "stream",
     "text": [
      "3.343928035982009\n"
     ]
    }
   ],
   "source": [
    "non_games_ratings = []\n",
    "for row in apps_data[1:]:\n",
    "    rating = float(row[7])\n",
    "    genre = row[11]\n",
    "    \n",
    "    if genre != 'Games':\n",
    "        non_games_ratings.append(rating)\n",
    "        \n",
    "avg_rating_non_games = sum(non_games_ratings) / len(non_games_ratings)\n",
    "print(avg_rating_non_games)"
   ]
  },
  {
   "cell_type": "markdown",
   "id": "623c68bf-b715-407a-801e-899ac72eee06",
   "metadata": {},
   "source": [
    "##### Not free games and social networking sites average rating"
   ]
  },
  {
   "cell_type": "code",
   "execution_count": 78,
   "id": "cf82ab1b-27ac-40a7-b946-70c08b1b61b8",
   "metadata": {},
   "outputs": [
    {
     "name": "stdout",
     "output_type": "stream",
     "text": [
      "3.8904235727440146\n"
     ]
    }
   ],
   "source": [
    "not_free_games_social_ratings = []\n",
    "for row in apps_data[1:]:\n",
    "    rating = float(row[7])\n",
    "    genre = row[11]\n",
    "    price = float(row[4])\n",
    "    \n",
    "    if (genre == 'Social Networking' or genre == 'Games') and price != 0:\n",
    "        not_free_games_social_ratings.append(rating)\n",
    "        \n",
    "avg_not_free = sum(not_free_games_social_ratings) / len(not_free_games_social_ratings)\n",
    "print(avg_not_free)"
   ]
  },
  {
   "cell_type": "markdown",
   "id": "9b4d16a4-407a-44aa-a834-41637a158011",
   "metadata": {},
   "source": [
    "#### Making a frequency table of rating in a dictionary"
   ]
  },
  {
   "cell_type": "code",
   "execution_count": 79,
   "id": "542dbbb3-0f9d-47ee-894a-d9b880e57974",
   "metadata": {},
   "outputs": [
    {
     "name": "stdout",
     "output_type": "stream",
     "text": [
      "{'4+': 3, '9+': 2, '12+': 1, '17+': 1}\n"
     ]
    }
   ],
   "source": [
    "ratings = ['4+', '4+', '4+', '9+', '9+', '12+', '17+']\n",
    "content_ratings = {}  \n",
    "for item in ratings:\n",
    "    if item in content_ratings:\n",
    "        content_ratings[item] += 1\n",
    "    else:\n",
    "        content_ratings[item] = 1\n",
    "\n",
    "print(content_ratings)"
   ]
  },
  {
   "cell_type": "code",
   "execution_count": null,
   "id": "3222e994-a8ca-4c1a-81df-d6d40d34e861",
   "metadata": {},
   "outputs": [],
   "source": []
  },
  {
   "cell_type": "code",
   "execution_count": 80,
   "id": "82169111-3bfe-422c-a53c-fa1fc6a5982f",
   "metadata": {},
   "outputs": [
    {
     "data": {
      "text/plain": [
       "['284882215',\n",
       " 'Facebook',\n",
       " '389879808',\n",
       " 'USD',\n",
       " '0',\n",
       " '2974676',\n",
       " '212',\n",
       " '3.5',\n",
       " '3.5',\n",
       " '95',\n",
       " '4+',\n",
       " 'Social Networking',\n",
       " '37',\n",
       " '1',\n",
       " '29',\n",
       " '1']"
      ]
     },
     "execution_count": 80,
     "metadata": {},
     "output_type": "execute_result"
    }
   ],
   "source": [
    "apps_data[1]"
   ]
  },
  {
   "cell_type": "code",
   "execution_count": 81,
   "id": "02e4043b-db5d-4c0a-8bd3-c51614bfa6e4",
   "metadata": {},
   "outputs": [],
   "source": [
    "frequency_table = {}\n",
    "for row in apps_data[1:]:\n",
    "    value = row[7]\n",
    "    if value in frequency_table:\n",
    "        frequency_table[value] += 1\n",
    "    else:\n",
    "        frequency_table[value] = 1"
   ]
  },
  {
   "cell_type": "code",
   "execution_count": 82,
   "id": "58e42add-03b3-4bd3-97de-bed53fae30c1",
   "metadata": {},
   "outputs": [
    {
     "data": {
      "text/plain": [
       "{'3.5': 702,\n",
       " '4.5': 2663,\n",
       " '4': 1626,\n",
       " '3': 383,\n",
       " '5': 492,\n",
       " '2.5': 196,\n",
       " '2': 106,\n",
       " '1.5': 56,\n",
       " '1': 44,\n",
       " '0': 929}"
      ]
     },
     "execution_count": 82,
     "metadata": {},
     "output_type": "execute_result"
    }
   ],
   "source": [
    "frequency_table"
   ]
  },
  {
   "cell_type": "code",
   "execution_count": null,
   "id": "1d4e3b5b-59b7-4e83-8ccf-1162d177f1eb",
   "metadata": {},
   "outputs": [],
   "source": []
  }
 ],
 "metadata": {
  "kernelspec": {
   "display_name": "Python 3 (ipykernel)",
   "language": "python",
   "name": "python3"
  },
  "language_info": {
   "codemirror_mode": {
    "name": "ipython",
    "version": 3
   },
   "file_extension": ".py",
   "mimetype": "text/x-python",
   "name": "python",
   "nbconvert_exporter": "python",
   "pygments_lexer": "ipython3",
   "version": "3.12.7"
  }
 },
 "nbformat": 4,
 "nbformat_minor": 5
}
