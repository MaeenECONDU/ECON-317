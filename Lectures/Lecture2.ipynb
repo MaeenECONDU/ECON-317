{
 "cells": [
  {
   "cell_type": "markdown",
   "id": "3485be7a-8ca2-42a6-a435-8568b3274976",
   "metadata": {},
   "source": [
    "### String\n",
    "* ordered collection of element\n",
    "* always inside inverted commas\n",
    "* Applying methods does not change the original string. It requires naming it as a new variable to retain the change.\n",
    "* So, it is immutable"
   ]
  },
  {
   "cell_type": "code",
   "execution_count": 1,
   "id": "b629e1c2-c742-4ef7-a5ca-ac7339fb06ba",
   "metadata": {},
   "outputs": [],
   "source": [
    "#upper, lower, title, swapcase, capitalize, replace, lstrip, rstrip, strip, join, islower, istitle, isupper, index\n",
    "# Look here for more: https://www.geeksforgeeks.org/python/python-string-methods/"
   ]
  },
  {
   "cell_type": "code",
   "execution_count": null,
   "id": "1704bca8-d655-4c65-8e96-bedf23b9645b",
   "metadata": {},
   "outputs": [],
   "source": [
    "text = 'This is Saturday'"
   ]
  },
  {
   "cell_type": "code",
   "execution_count": null,
   "id": "90cfa3a5-bb58-4fb3-a5ad-4c524c78f1f3",
   "metadata": {},
   "outputs": [],
   "source": []
  },
  {
   "cell_type": "code",
   "execution_count": 38,
   "id": "8e520759-831c-49a3-a6a6-a577f256caf8",
   "metadata": {},
   "outputs": [],
   "source": [
    "### Slicing a string\n",
    "s = 'abcdefghijklmnopqrstuvwxyz'"
   ]
  },
  {
   "cell_type": "code",
   "execution_count": 39,
   "id": "e9f81f16-d6ff-4499-a743-5bfad24429e6",
   "metadata": {},
   "outputs": [
    {
     "data": {
      "text/plain": [
       "'bdefz'"
      ]
     },
     "execution_count": 39,
     "metadata": {},
     "output_type": "execute_result"
    }
   ],
   "source": [
    "s[1]+ s[3:6]+ s[-1]"
   ]
  },
  {
   "cell_type": "markdown",
   "id": "e94a6498-56f2-4b8a-8d1d-5144b37d50d9",
   "metadata": {},
   "source": [
    "## List to string"
   ]
  },
  {
   "cell_type": "code",
   "execution_count": 25,
   "id": "8b8fb092-c3a8-4195-9cf4-54592000e168",
   "metadata": {},
   "outputs": [
    {
     "name": "stdout",
     "output_type": "stream",
     "text": [
      "red, blue, green\n"
     ]
    }
   ],
   "source": [
    "color = ['red', 'blue', 'green']\n",
    "\n",
    "color_str = ', '.join(color)\n",
    "\n",
    "print(color_str)"
   ]
  },
  {
   "cell_type": "markdown",
   "id": "5dea0e37-2000-41b7-81d0-87d4f67b3232",
   "metadata": {},
   "source": [
    "## String to List"
   ]
  },
  {
   "cell_type": "code",
   "execution_count": 30,
   "id": "1f15ed3c-2ed4-4c6d-9874-7b142ecd2861",
   "metadata": {},
   "outputs": [],
   "source": [
    "o = list('sfgkjsdhksdf')"
   ]
  },
  {
   "cell_type": "code",
   "execution_count": 31,
   "id": "4fdc91b8-4c30-4b76-858e-777ea67c176d",
   "metadata": {},
   "outputs": [
    {
     "data": {
      "text/plain": [
       "['s', 'f', 'g', 'k', 'j', 's', 'd', 'h', 'k', 's', 'd', 'f']"
      ]
     },
     "execution_count": 31,
     "metadata": {},
     "output_type": "execute_result"
    }
   ],
   "source": [
    "o"
   ]
  },
  {
   "cell_type": "code",
   "execution_count": 26,
   "id": "36715830-56ae-4d47-985f-e5c9c19e1bcf",
   "metadata": {},
   "outputs": [
    {
     "name": "stdout",
     "output_type": "stream",
     "text": [
      "['red,', 'blue,', 'green']\n"
     ]
    }
   ],
   "source": [
    "new_col = color_str.split()\n",
    "print(new_col)"
   ]
  },
  {
   "cell_type": "code",
   "execution_count": null,
   "id": "ef59326c-011c-4a58-93fe-8786fc32af6b",
   "metadata": {},
   "outputs": [],
   "source": []
  },
  {
   "cell_type": "code",
   "execution_count": null,
   "id": "32943bd1-96ac-4226-bd6a-3e803d221a71",
   "metadata": {},
   "outputs": [],
   "source": [
    "#practice\n",
    "ls = ['  ThiS', 'SenTence', 'NEEDS', 'bEttEr!', 'foRmatting']"
   ]
  },
  {
   "cell_type": "code",
   "execution_count": null,
   "id": "9126ed08-06d9-447e-bdf6-87f298e9371c",
   "metadata": {},
   "outputs": [],
   "source": []
  },
  {
   "cell_type": "code",
   "execution_count": null,
   "id": "ceb2b422-c6d1-4aeb-a45d-e1148e1fcdb2",
   "metadata": {},
   "outputs": [],
   "source": []
  },
  {
   "cell_type": "markdown",
   "id": "fe354d5f-dcac-4bee-8234-595d46a9e562",
   "metadata": {},
   "source": [
    "#### Tuple\n",
    "* ordered sequence\n",
    "* Tuples are similar to lists. Only diference is tuples are immutable\n",
    "* As tuples are immutable we can not append, remove etc on tuples"
   ]
  },
  {
   "cell_type": "code",
   "execution_count": 20,
   "id": "b0b22208-8458-4260-9b46-b1d999c8786b",
   "metadata": {},
   "outputs": [],
   "source": [
    "tuple1 = (8, 5, 1, 2, 5, 5)"
   ]
  },
  {
   "cell_type": "code",
   "execution_count": 40,
   "id": "34fec4be-9d02-4733-94e8-a978df84ce19",
   "metadata": {},
   "outputs": [],
   "source": [
    "#count, index"
   ]
  },
  {
   "cell_type": "code",
   "execution_count": null,
   "id": "ca975fa9-10cb-4574-90b2-012aaa31a080",
   "metadata": {},
   "outputs": [],
   "source": []
  },
  {
   "cell_type": "code",
   "execution_count": null,
   "id": "ef168f25-e905-400b-a732-4dc0a71ad0e8",
   "metadata": {},
   "outputs": [],
   "source": []
  },
  {
   "cell_type": "code",
   "execution_count": null,
   "id": "b5f6cdea-9174-48ae-8dd9-f8410502bb56",
   "metadata": {},
   "outputs": [],
   "source": []
  },
  {
   "cell_type": "code",
   "execution_count": null,
   "id": "cfca0942-f697-4a10-9809-a7806606b039",
   "metadata": {},
   "outputs": [],
   "source": []
  },
  {
   "cell_type": "code",
   "execution_count": null,
   "id": "19ae6eff-a44b-4e34-87a1-722e4b15c7ac",
   "metadata": {},
   "outputs": [],
   "source": []
  },
  {
   "cell_type": "markdown",
   "id": "2fda7b4c-1453-4f04-a058-ded152295514",
   "metadata": {},
   "source": [
    "## Membership Operator\n",
    "*in "
   ]
  },
  {
   "cell_type": "code",
   "execution_count": 35,
   "id": "2d959c70-e5fa-425b-86c1-483223fc098a",
   "metadata": {},
   "outputs": [
    {
     "data": {
      "text/plain": [
       "True"
      ]
     },
     "execution_count": 35,
     "metadata": {},
     "output_type": "execute_result"
    }
   ],
   "source": [
    "'c' in {'a', 'b', 'c', 'd'}"
   ]
  },
  {
   "cell_type": "code",
   "execution_count": 36,
   "id": "badfd456-2414-4e2f-a6be-b4cf34bec86d",
   "metadata": {},
   "outputs": [
    {
     "data": {
      "text/plain": [
       "False"
      ]
     },
     "execution_count": 36,
     "metadata": {},
     "output_type": "execute_result"
    }
   ],
   "source": [
    "3 in  {'a', 'b', 'c', 'd'}"
   ]
  },
  {
   "cell_type": "code",
   "execution_count": null,
   "id": "05000b39-e11c-4999-a48f-44e6110a6518",
   "metadata": {},
   "outputs": [],
   "source": []
  },
  {
   "cell_type": "code",
   "execution_count": null,
   "id": "750652f2-01c0-45f0-a968-243082d08530",
   "metadata": {},
   "outputs": [],
   "source": []
  },
  {
   "cell_type": "code",
   "execution_count": null,
   "id": "e677e532-353b-485c-9f29-2d16ff47417d",
   "metadata": {},
   "outputs": [],
   "source": []
  },
  {
   "cell_type": "markdown",
   "id": "299dede0-1888-443d-8a63-2b6e934ad682",
   "metadata": {},
   "source": [
    "### Mutability\n",
    "If a python object is changable once it is created it is mutable. Otherwise, it is immutable\n",
    "* Immutable: integer, float, string, tuple\n",
    "* Mutable: list, dictionary, set"
   ]
  },
  {
   "cell_type": "code",
   "execution_count": 2,
   "id": "31a72ce3-f067-4386-9822-205489be82e3",
   "metadata": {},
   "outputs": [
    {
     "ename": "TypeError",
     "evalue": "'tuple' object does not support item assignment",
     "output_type": "error",
     "traceback": [
      "\u001b[1;31m---------------------------------------------------------------------------\u001b[0m",
      "\u001b[1;31mTypeError\u001b[0m                                 Traceback (most recent call last)",
      "Cell \u001b[1;32mIn[2], line 3\u001b[0m\n\u001b[0;32m      1\u001b[0m \u001b[38;5;66;03m# Example 1\u001b[39;00m\n\u001b[0;32m      2\u001b[0m tuple1 \u001b[38;5;241m=\u001b[39m (\u001b[38;5;241m1\u001b[39m, \u001b[38;5;241m2\u001b[39m, \u001b[38;5;241m3\u001b[39m, \u001b[38;5;241m4\u001b[39m) \n\u001b[1;32m----> 3\u001b[0m tuple1[\u001b[38;5;241m0\u001b[39m] \u001b[38;5;241m=\u001b[39m \u001b[38;5;241m5\u001b[39m\n\u001b[0;32m      4\u001b[0m \u001b[38;5;28mprint\u001b[39m(tuple1)\n",
      "\u001b[1;31mTypeError\u001b[0m: 'tuple' object does not support item assignment"
     ]
    }
   ],
   "source": [
    "# Example 1\n",
    "tuple1 = (1, 2, 3, 4) \n",
    "tuple1[0] = 5\n",
    "print(tuple1)"
   ]
  },
  {
   "cell_type": "code",
   "execution_count": 3,
   "id": "4c0387bf-42d5-448f-ad61-fbd1bf2d43da",
   "metadata": {},
   "outputs": [
    {
     "ename": "TypeError",
     "evalue": "'str' object does not support item assignment",
     "output_type": "error",
     "traceback": [
      "\u001b[1;31m---------------------------------------------------------------------------\u001b[0m",
      "\u001b[1;31mTypeError\u001b[0m                                 Traceback (most recent call last)",
      "Cell \u001b[1;32mIn[3], line 3\u001b[0m\n\u001b[0;32m      1\u001b[0m \u001b[38;5;66;03m#Example 2\u001b[39;00m\n\u001b[0;32m      2\u001b[0m text \u001b[38;5;241m=\u001b[39m \u001b[38;5;124m\"\u001b[39m\u001b[38;5;124mThis is day 1 for ECON 317\u001b[39m\u001b[38;5;124m\"\u001b[39m\n\u001b[1;32m----> 3\u001b[0m text[\u001b[38;5;241m0\u001b[39m] \u001b[38;5;241m=\u001b[39m \u001b[38;5;124m'\u001b[39m\u001b[38;5;124mW\u001b[39m\u001b[38;5;124m'\u001b[39m\n\u001b[0;32m      4\u001b[0m \u001b[38;5;28mprint\u001b[39m(text)\n",
      "\u001b[1;31mTypeError\u001b[0m: 'str' object does not support item assignment"
     ]
    }
   ],
   "source": [
    "#Example 2\n",
    "text = \"This is day 1 for ECON 317\"\n",
    "text[0] = 'W'\n",
    "print(text)"
   ]
  },
  {
   "cell_type": "code",
   "execution_count": 42,
   "id": "8b95a976-3d88-4473-9e63-37a2bf23465d",
   "metadata": {},
   "outputs": [
    {
     "name": "stdout",
     "output_type": "stream",
     "text": [
      "[5, 2, 3, 4]\n"
     ]
    }
   ],
   "source": [
    "# Example 3\n",
    "alist = [1, 2, 3, 4]\n",
    "alist[0] = 5\n",
    "print(alist)"
   ]
  },
  {
   "cell_type": "markdown",
   "id": "5b73d603-33ff-4409-be99-fdf3d23d2f7a",
   "metadata": {},
   "source": [
    "As lists are mutable, we have to make a copy of it with a new name if we want to keep the initial list intact. Giving a new name to an existing list is called **aliasing**. The new name is called **alias name**."
   ]
  },
  {
   "cell_type": "code",
   "execution_count": 43,
   "id": "d2e3a6bf-b488-4fd2-afbb-85ce60139d44",
   "metadata": {},
   "outputs": [],
   "source": [
    "blist = alist"
   ]
  },
  {
   "cell_type": "code",
   "execution_count": null,
   "id": "66ec9171-94c7-4778-96c1-bde0fe5609ac",
   "metadata": {},
   "outputs": [],
   "source": []
  },
  {
   "cell_type": "code",
   "execution_count": null,
   "id": "5c4c5169-29cb-40d9-babf-ffd098533f88",
   "metadata": {},
   "outputs": [],
   "source": []
  },
  {
   "cell_type": "code",
   "execution_count": null,
   "id": "b724291b-db69-4c15-a05e-ff86c115046f",
   "metadata": {},
   "outputs": [],
   "source": []
  },
  {
   "cell_type": "code",
   "execution_count": 5,
   "id": "a41e7b26-633c-4d5b-a7a4-619f852f24f0",
   "metadata": {},
   "outputs": [
    {
     "ename": "TypeError",
     "evalue": "'set' object does not support item assignment",
     "output_type": "error",
     "traceback": [
      "\u001b[1;31m---------------------------------------------------------------------------\u001b[0m",
      "\u001b[1;31mTypeError\u001b[0m                                 Traceback (most recent call last)",
      "Cell \u001b[1;32mIn[5], line 3\u001b[0m\n\u001b[0;32m      1\u001b[0m \u001b[38;5;66;03m# Example 4\u001b[39;00m\n\u001b[0;32m      2\u001b[0m aset \u001b[38;5;241m=\u001b[39m {\u001b[38;5;241m1\u001b[39m,\u001b[38;5;241m2\u001b[39m,\u001b[38;5;241m3\u001b[39m,\u001b[38;5;241m4\u001b[39m}\n\u001b[1;32m----> 3\u001b[0m aset[\u001b[38;5;241m0\u001b[39m] \u001b[38;5;241m=\u001b[39m \u001b[38;5;241m5\u001b[39m\n\u001b[0;32m      4\u001b[0m \u001b[38;5;28mprint\u001b[39m(aset)\n",
      "\u001b[1;31mTypeError\u001b[0m: 'set' object does not support item assignment"
     ]
    }
   ],
   "source": [
    "# Example 4\n",
    "aset = {1,2,3,4}\n",
    "aset[0] = 5\n",
    "print(aset) \n",
    "# This is item assignment which is notsupported in set object"
   ]
  },
  {
   "cell_type": "code",
   "execution_count": 6,
   "id": "d3caf3f1-895a-4bb6-9394-3ff2b2f3cfbd",
   "metadata": {},
   "outputs": [
    {
     "name": "stdout",
     "output_type": "stream",
     "text": [
      "{1, 2, 3, 4, 5}\n"
     ]
    }
   ],
   "source": [
    "#Example 5\n",
    "aset.add(5)\n",
    "print(aset)"
   ]
  },
  {
   "cell_type": "code",
   "execution_count": null,
   "id": "43701009-5c37-4e14-814e-8ba5c8c29c1c",
   "metadata": {},
   "outputs": [],
   "source": []
  },
  {
   "cell_type": "code",
   "execution_count": null,
   "id": "9d3674cb-c10b-4b6e-8ea5-d78df79ee027",
   "metadata": {},
   "outputs": [],
   "source": []
  },
  {
   "cell_type": "markdown",
   "id": "4ee3a267-32e4-4891-a1a2-d560f4b7c6bd",
   "metadata": {},
   "source": [
    "#### Built-In function\n",
    "* sorted()\n",
    "* round()\n",
    "* help(round)\n",
    "* enumerate()\n",
    "* max()\n",
    "* min()\n",
    "* sum()\n",
    "* abs()\n",
    "* print()\n",
    "* set()\n",
    "* list()\n",
    "* tuple()\n",
    "* len()\n",
    "* type()\n",
    "* float()\n",
    "* int()\n",
    "* split()\n",
    "\n",
    "Reference: https://docs.python.org/3/library/functions.html\n"
   ]
  },
  {
   "cell_type": "code",
   "execution_count": 15,
   "id": "0b60036a-ce9b-43df-b043-8253c28eea28",
   "metadata": {},
   "outputs": [],
   "source": [
    "ls1 = [11.832, 3, 8, 6, 6, 1]"
   ]
  },
  {
   "cell_type": "code",
   "execution_count": 17,
   "id": "aac6fc0d-3111-4634-a47d-a2f2395a72a7",
   "metadata": {},
   "outputs": [
    {
     "data": {
      "text/plain": [
       "11.832"
      ]
     },
     "execution_count": 17,
     "metadata": {},
     "output_type": "execute_result"
    }
   ],
   "source": [
    "max(ls1)"
   ]
  },
  {
   "cell_type": "code",
   "execution_count": 18,
   "id": "f95a1bba-e07f-4faf-a090-7090630b624c",
   "metadata": {},
   "outputs": [
    {
     "data": {
      "text/plain": [
       "35.832"
      ]
     },
     "execution_count": 18,
     "metadata": {},
     "output_type": "execute_result"
    }
   ],
   "source": [
    "sum(ls1)"
   ]
  },
  {
   "cell_type": "code",
   "execution_count": 22,
   "id": "e13f8847-32b0-43bb-b5fa-79d108e3d9ef",
   "metadata": {},
   "outputs": [
    {
     "data": {
      "text/plain": [
       "3.0"
      ]
     },
     "execution_count": 22,
     "metadata": {},
     "output_type": "execute_result"
    }
   ],
   "source": [
    "float(ls1[1])"
   ]
  },
  {
   "cell_type": "code",
   "execution_count": 19,
   "id": "38db42ec-27ee-4578-9772-2916256381fe",
   "metadata": {},
   "outputs": [],
   "source": [
    "ls = ['a', 'b', 'c']"
   ]
  },
  {
   "cell_type": "code",
   "execution_count": 20,
   "id": "c835d4a4-b153-49ff-9e0e-163de1aedddb",
   "metadata": {},
   "outputs": [
    {
     "ename": "TypeError",
     "evalue": "unsupported operand type(s) for +: 'int' and 'str'",
     "output_type": "error",
     "traceback": [
      "\u001b[1;31m---------------------------------------------------------------------------\u001b[0m",
      "\u001b[1;31mTypeError\u001b[0m                                 Traceback (most recent call last)",
      "Cell \u001b[1;32mIn[20], line 1\u001b[0m\n\u001b[1;32m----> 1\u001b[0m \u001b[38;5;28msum\u001b[39m(ls)\n",
      "\u001b[1;31mTypeError\u001b[0m: unsupported operand type(s) for +: 'int' and 'str'"
     ]
    }
   ],
   "source": [
    "sum(ls)"
   ]
  },
  {
   "cell_type": "code",
   "execution_count": null,
   "id": "b75b114e-b79c-429e-bbe3-35d77b451d7e",
   "metadata": {},
   "outputs": [],
   "source": []
  },
  {
   "cell_type": "code",
   "execution_count": null,
   "id": "8ce0d1c1-9ee2-4bf7-9816-ce07e22fdf99",
   "metadata": {},
   "outputs": [],
   "source": []
  },
  {
   "cell_type": "code",
   "execution_count": null,
   "id": "84c6441d-ea6f-46a8-aad0-cb6f763d930a",
   "metadata": {},
   "outputs": [],
   "source": []
  },
  {
   "cell_type": "code",
   "execution_count": null,
   "id": "8446cd15-3467-4210-8093-8fb42a42235f",
   "metadata": {},
   "outputs": [],
   "source": []
  },
  {
   "cell_type": "markdown",
   "id": "5e4854c3-7385-420a-bf18-960b718e7ab4",
   "metadata": {},
   "source": [
    "### F string\n",
    "print(f\"..........\")"
   ]
  },
  {
   "cell_type": "code",
   "execution_count": 89,
   "id": "e367c17b-b5e0-47d2-8567-b664b54fdce6",
   "metadata": {},
   "outputs": [],
   "source": [
    "course = \"ECON 317\""
   ]
  },
  {
   "cell_type": "code",
   "execution_count": 92,
   "id": "3a4400a4-52e7-4299-9b57-059b57dd8376",
   "metadata": {},
   "outputs": [
    {
     "name": "stdout",
     "output_type": "stream",
     "text": [
      "This course is ECON 317.\n"
     ]
    }
   ],
   "source": [
    "print(\"This course is\" + \" \" + \"ECON 317\" + \".\")"
   ]
  },
  {
   "cell_type": "code",
   "execution_count": 94,
   "id": "cc198935-708d-42c2-ba91-0c5d0537f3a9",
   "metadata": {},
   "outputs": [
    {
     "name": "stdout",
     "output_type": "stream",
     "text": [
      "This course is: ECON 317.\n"
     ]
    }
   ],
   "source": [
    "print(f\"This course is: {course}.\")"
   ]
  },
  {
   "cell_type": "code",
   "execution_count": 95,
   "id": "42a8161e-9641-4735-bbcb-83edce4f7465",
   "metadata": {},
   "outputs": [
    {
     "name": "stdout",
     "output_type": "stream",
     "text": [
      "City: Dhaka\n"
     ]
    }
   ],
   "source": [
    "city = \"Dhaka\"\n",
    "print(f\"City: {city}\")"
   ]
  },
  {
   "cell_type": "code",
   "execution_count": null,
   "id": "36b357a0-8cf2-4920-b5f9-8420ce8522b8",
   "metadata": {},
   "outputs": [],
   "source": []
  },
  {
   "cell_type": "code",
   "execution_count": null,
   "id": "3bd54229-c5a6-4fbc-ab37-ae1bfd6b5abe",
   "metadata": {},
   "outputs": [],
   "source": []
  },
  {
   "cell_type": "markdown",
   "id": "e39b432f-13e8-4aa9-9ce2-51736d604046",
   "metadata": {},
   "source": [
    "### Dictionary "
   ]
  },
  {
   "cell_type": "code",
   "execution_count": 58,
   "id": "78ecf2a6-7aaf-4170-8d37-aea36674618e",
   "metadata": {},
   "outputs": [],
   "source": [
    "gdp_growth = [6.5, 4.2, 5.0]\n",
    "countries = [\"india\", \"bangladesh\", \"china\"]"
   ]
  },
  {
   "cell_type": "code",
   "execution_count": 59,
   "id": "5922c8ac-6e0c-4dfa-84c1-85095356e216",
   "metadata": {},
   "outputs": [],
   "source": [
    "bd = countries.index(\"bangladesh\")"
   ]
  },
  {
   "cell_type": "code",
   "execution_count": 60,
   "id": "24de9c01-0def-47c4-b1ca-0c0c961e9033",
   "metadata": {},
   "outputs": [
    {
     "data": {
      "text/plain": [
       "4.2"
      ]
     },
     "execution_count": 60,
     "metadata": {},
     "output_type": "execute_result"
    }
   ],
   "source": [
    "gdp_growth[bd]"
   ]
  },
  {
   "cell_type": "markdown",
   "id": "fdff1178-d3df-419f-be12-03784c2a8023",
   "metadata": {},
   "source": [
    "This is how we can find the GDP growth rate of a specific country. But this is neither convenient nor intuitive. "
   ]
  },
  {
   "cell_type": "code",
   "execution_count": 61,
   "id": "d1a78571-169a-45ba-91fd-180508b26600",
   "metadata": {},
   "outputs": [],
   "source": [
    "world = {\"india\":6.5, \"bangladesh\":4.2, \"china\":5.0}"
   ]
  },
  {
   "cell_type": "code",
   "execution_count": 62,
   "id": "323c1590-400e-4479-9bcc-9ddc0d33582e",
   "metadata": {},
   "outputs": [
    {
     "data": {
      "text/plain": [
       "4.2"
      ]
     },
     "execution_count": 62,
     "metadata": {},
     "output_type": "execute_result"
    }
   ],
   "source": [
    "world[\"bangladesh\"]"
   ]
  },
  {
   "cell_type": "markdown",
   "id": "98f8b672-ace7-4a83-8a78-02874dec175c",
   "metadata": {},
   "source": [
    "Keys have to immutable, so keys can never be lists. But values can be lists. "
   ]
  },
  {
   "cell_type": "code",
   "execution_count": 63,
   "id": "4ed588e7-62f5-4b5a-9b10-1a3ca685bb52",
   "metadata": {},
   "outputs": [
    {
     "data": {
      "text/plain": [
       "{'india': 6.5, 'bangladesh': 4.2}"
      ]
     },
     "execution_count": 63,
     "metadata": {},
     "output_type": "execute_result"
    }
   ],
   "source": [
    "del(world[\"china\"])\n",
    "world"
   ]
  },
  {
   "cell_type": "code",
   "execution_count": 33,
   "id": "97a9fc2e-27ea-4047-98ca-bce29c362948",
   "metadata": {},
   "outputs": [],
   "source": [
    "europe = {'spain':'madrid', 'france':'paris', 'germany':'bonn',\n",
    "          'norway':'oslo', 'italy':'rome', 'poland':'warsaw',\n",
    "          'australia':'vienna' }"
   ]
  },
  {
   "cell_type": "code",
   "execution_count": 34,
   "id": "8282f616-f130-434a-850f-6421882cd1a9",
   "metadata": {},
   "outputs": [
    {
     "name": "stdout",
     "output_type": "stream",
     "text": [
      "True\n"
     ]
    }
   ],
   "source": [
    "# Is Italy in Europe?\n",
    "print('italy' in europe)"
   ]
  },
  {
   "cell_type": "code",
   "execution_count": 37,
   "id": "e12b44c5-4921-4912-95b2-248d497329fd",
   "metadata": {},
   "outputs": [],
   "source": [
    "# Adding Poland in the Europe dictionary\n",
    "europe[\"belgium\"] = 'brussels'"
   ]
  },
  {
   "cell_type": "code",
   "execution_count": 35,
   "id": "d6cfd250-716f-4479-a7e1-4ea96880486b",
   "metadata": {},
   "outputs": [],
   "source": [
    "# Updating capital of Germany\n",
    "europe['germany'] = 'berlin'"
   ]
  },
  {
   "cell_type": "code",
   "execution_count": 36,
   "id": "f50e0db4-7caf-4bc8-ab89-a5bef095d823",
   "metadata": {},
   "outputs": [],
   "source": [
    "# Removing australia\n",
    "del(europe[\"australia\"])"
   ]
  },
  {
   "cell_type": "code",
   "execution_count": 38,
   "id": "c4675673-7a75-4248-9a8c-a569f81b6b48",
   "metadata": {},
   "outputs": [
    {
     "name": "stdout",
     "output_type": "stream",
     "text": [
      "{'spain': 'madrid', 'france': 'paris', 'germany': 'berlin', 'norway': 'oslo', 'italy': 'rome', 'poland': 'warsaw', 'belgium': 'brussels'}\n"
     ]
    }
   ],
   "source": [
    "print(europe)"
   ]
  },
  {
   "cell_type": "markdown",
   "id": "f27f9d77-87f5-45a4-aecd-ed935b14d992",
   "metadata": {},
   "source": [
    "#### Dictionary of dictionaries"
   ]
  },
  {
   "cell_type": "code",
   "execution_count": 23,
   "id": "2e3fe7a4-4d87-439a-b337-38b3eb9243a8",
   "metadata": {},
   "outputs": [],
   "source": [
    "europe = { 'spain': { 'capital':'madrid', 'population':46.77 },\n",
    "           'france': { 'capital':'paris', 'population':66.03 },\n",
    "           'germany': { 'capital':'berlin', 'population':80.62 },\n",
    "           'norway': { 'capital':'oslo', 'population':5.084 } }"
   ]
  },
  {
   "cell_type": "code",
   "execution_count": 40,
   "id": "6679cc56-3f7e-4e7e-9539-460c080c4eea",
   "metadata": {},
   "outputs": [
    {
     "name": "stdout",
     "output_type": "stream",
     "text": [
      "paris\n"
     ]
    }
   ],
   "source": [
    "# What is the capital of France?\n",
    "print(europe['france']['capital'])"
   ]
  },
  {
   "cell_type": "code",
   "execution_count": 42,
   "id": "23096101-3b97-43f9-98c1-6a2ce095ee31",
   "metadata": {},
   "outputs": [
    {
     "name": "stdout",
     "output_type": "stream",
     "text": [
      "66.03\n"
     ]
    }
   ],
   "source": [
    "# What is the population of France?\n",
    "print(europe['france']['population'])"
   ]
  },
  {
   "cell_type": "code",
   "execution_count": 43,
   "id": "724eaa21-0391-4fd6-b6ba-4344a082c9bd",
   "metadata": {},
   "outputs": [],
   "source": [
    "# Adding a new component to the dictionary of dictionaries\n",
    "# First add the value of the dictionary\n",
    "data = {'capital':'rome', 'population':59.83 }"
   ]
  },
  {
   "cell_type": "code",
   "execution_count": 44,
   "id": "195519d9-ef40-42da-8bf2-777a40f3ca35",
   "metadata": {},
   "outputs": [],
   "source": [
    "# Then add the value to a key.\n",
    "europe['italy'] = data "
   ]
  },
  {
   "cell_type": "code",
   "execution_count": 45,
   "id": "9e249c92-5735-4dbd-b539-ee7068c01936",
   "metadata": {},
   "outputs": [
    {
     "name": "stdout",
     "output_type": "stream",
     "text": [
      "{'spain': {'capital': 'madrid', 'population': 46.77}, 'france': {'capital': 'paris', 'population': 66.03}, 'germany': {'capital': 'berlin', 'population': 80.62}, 'norway': {'capital': 'oslo', 'population': 5.084}, 'italy': {'capital': 'rome', 'population': 59.83}}\n"
     ]
    }
   ],
   "source": [
    "print(europe)"
   ]
  },
  {
   "cell_type": "markdown",
   "id": "f94eeb03-896f-4407-a8c1-3c0e4501607e",
   "metadata": {},
   "source": [
    "### Conditional Statements\n",
    "* if , else , elif"
   ]
  },
  {
   "cell_type": "code",
   "execution_count": 64,
   "id": "fd2c0c55-08f9-4093-81b5-ddb564e70062",
   "metadata": {},
   "outputs": [
    {
     "ename": "IndentationError",
     "evalue": "expected an indented block after 'if' statement on line 2 (2878706004.py, line 3)",
     "output_type": "error",
     "traceback": [
      "\u001b[1;36m  Cell \u001b[1;32mIn[64], line 3\u001b[1;36m\u001b[0m\n\u001b[1;33m    print(\"z is even\")\u001b[0m\n\u001b[1;37m    ^\u001b[0m\n\u001b[1;31mIndentationError\u001b[0m\u001b[1;31m:\u001b[0m expected an indented block after 'if' statement on line 2\n"
     ]
    }
   ],
   "source": [
    "z = 4\n",
    "if z % 2 == 0 : \n",
    "print(\"z is even\")"
   ]
  },
  {
   "cell_type": "code",
   "execution_count": 66,
   "id": "44b01840-ec14-4627-9543-c1f50987c7f4",
   "metadata": {},
   "outputs": [],
   "source": [
    "z = 5\n",
    "if z % 2 == 0 : \n",
    "    print(\"z is even\")"
   ]
  },
  {
   "cell_type": "code",
   "execution_count": 67,
   "id": "03b77b4c-7d17-4434-bffa-449e99930928",
   "metadata": {},
   "outputs": [
    {
     "name": "stdout",
     "output_type": "stream",
     "text": [
      "z is odd\n"
     ]
    }
   ],
   "source": [
    "z = 5\n",
    "if z % 2 == 0 : \n",
    "    print(\"z is even\")\n",
    "else :\n",
    "    print(\"z is odd\")"
   ]
  },
  {
   "cell_type": "code",
   "execution_count": 68,
   "id": "c43f15a4-2683-4d7c-9746-ae782f687c69",
   "metadata": {},
   "outputs": [
    {
     "name": "stdout",
     "output_type": "stream",
     "text": [
      "z is divisible by 3\n"
     ]
    }
   ],
   "source": [
    "z = 3\n",
    "if z % 2 == 0 :\n",
    "    print(\"z is divisible by 2\") \n",
    "elif z % 3 == 0 :\n",
    "    print(\"z is divisible by 3\") \n",
    "else :\n",
    "    print(\"z is neither divisible by 2 nor by 3\")"
   ]
  },
  {
   "cell_type": "markdown",
   "id": "6dfd89f1-382e-4107-9f35-878017366066",
   "metadata": {},
   "source": [
    "### For loop"
   ]
  },
  {
   "cell_type": "code",
   "execution_count": 26,
   "id": "411b0adc-1e4a-4850-8ec5-a770ca9fb035",
   "metadata": {},
   "outputs": [
    {
     "name": "stdout",
     "output_type": "stream",
     "text": [
      "B\n",
      "A\n",
      "N\n",
      "G\n",
      "L\n",
      "A\n",
      "D\n",
      "E\n",
      "S\n",
      "H\n"
     ]
    }
   ],
   "source": [
    "for i in \"bangladesh\" :\n",
    "    print(i.capitalize())"
   ]
  },
  {
   "cell_type": "markdown",
   "id": "e2bc66fe-d6c7-4d32-b53f-f63a5f56f080",
   "metadata": {},
   "source": [
    "#### For loops in list"
   ]
  },
  {
   "cell_type": "code",
   "execution_count": 24,
   "id": "6698beae-8d0c-46a0-9481-8c7a98c17780",
   "metadata": {},
   "outputs": [],
   "source": [
    "fam = [1.73, 1.68, 1.71, 1.89]"
   ]
  },
  {
   "cell_type": "code",
   "execution_count": 71,
   "id": "27af6873-0af8-4e39-ad51-02145b47c30f",
   "metadata": {},
   "outputs": [
    {
     "name": "stdout",
     "output_type": "stream",
     "text": [
      "1.73\n",
      "1.68\n",
      "1.71\n",
      "1.89\n"
     ]
    }
   ],
   "source": [
    "print(fam[0])\n",
    "print(fam[1])\n",
    "print(fam[2])\n",
    "print(fam[3])"
   ]
  },
  {
   "cell_type": "code",
   "execution_count": 78,
   "id": "c751d20e-43f8-4d93-af48-dd24b052790e",
   "metadata": {},
   "outputs": [
    {
     "name": "stdout",
     "output_type": "stream",
     "text": [
      "1.73\n",
      "1.68\n",
      "1.71\n",
      "1.89\n"
     ]
    }
   ],
   "source": [
    "for height in fam :\n",
    "    print(height)"
   ]
  },
  {
   "cell_type": "code",
   "execution_count": 25,
   "id": "3b4afb83-f6ec-4a25-83e5-dcba75703dbd",
   "metadata": {},
   "outputs": [
    {
     "name": "stdout",
     "output_type": "stream",
     "text": [
      "1: 1.73\n",
      "2: 1.68\n",
      "3: 1.71\n",
      "4: 1.89\n"
     ]
    }
   ],
   "source": [
    "for index, height in enumerate(fam) :\n",
    "    print(str(index) + \": \" + str(height))"
   ]
  },
  {
   "cell_type": "code",
   "execution_count": 98,
   "id": "65085c5a-9576-4b66-8101-75f0e0f32209",
   "metadata": {},
   "outputs": [
    {
     "name": "stdout",
     "output_type": "stream",
     "text": [
      "Item 0: soup\n",
      "Item 1: rice\n",
      "Item 2: mutton\n"
     ]
    }
   ],
   "source": [
    "menu = [\"soup\", \"rice\", \"mutton\"]\n",
    "for index, item in enumerate(menu):\n",
    "   print(f\"Item {index}: {item}\")"
   ]
  },
  {
   "cell_type": "code",
   "execution_count": 24,
   "id": "1f00a370-a6bc-4378-b15d-911e85f7468b",
   "metadata": {},
   "outputs": [
    {
     "name": "stdout",
     "output_type": "stream",
     "text": [
      "Item 1: soup\n",
      "Item 2: rice\n",
      "Item 3: mutton\n"
     ]
    }
   ],
   "source": [
    "menu = [\"soup\", \"rice\", \"mutton\"]\n",
    "for index, item in enumerate(menu, start = 1):\n",
    "   print(f\"Item {index}: {item}\")"
   ]
  },
  {
   "cell_type": "markdown",
   "id": "c7ebca9b-ded1-47c3-9927-e3b7e16331e6",
   "metadata": {},
   "source": [
    "#### For loops in case of dictionary\n",
    "* for key, val in my_dict.items() :"
   ]
  },
  {
   "cell_type": "code",
   "execution_count": 81,
   "id": "4ee545ef-bac8-49eb-b849-462dc7c7d269",
   "metadata": {},
   "outputs": [
    {
     "ename": "ValueError",
     "evalue": "too many values to unpack (expected 2)",
     "output_type": "error",
     "traceback": [
      "\u001b[1;31m---------------------------------------------------------------------------\u001b[0m",
      "\u001b[1;31mValueError\u001b[0m                                Traceback (most recent call last)",
      "Cell \u001b[1;32mIn[81], line 2\u001b[0m\n\u001b[0;32m      1\u001b[0m world \u001b[38;5;241m=\u001b[39m {\u001b[38;5;124m\"\u001b[39m\u001b[38;5;124mindia\u001b[39m\u001b[38;5;124m\"\u001b[39m:\u001b[38;5;241m6.5\u001b[39m, \u001b[38;5;124m\"\u001b[39m\u001b[38;5;124mbangladesh\u001b[39m\u001b[38;5;124m\"\u001b[39m:\u001b[38;5;241m4.2\u001b[39m, \u001b[38;5;124m\"\u001b[39m\u001b[38;5;124mchina\u001b[39m\u001b[38;5;124m\"\u001b[39m:\u001b[38;5;241m5.0\u001b[39m}\n\u001b[1;32m----> 2\u001b[0m \u001b[38;5;28;01mfor\u001b[39;00m key, value \u001b[38;5;129;01min\u001b[39;00m world :\n\u001b[0;32m      3\u001b[0m     \u001b[38;5;28mprint\u001b[39m(key \u001b[38;5;241m+\u001b[39m \u001b[38;5;124m\"\u001b[39m\u001b[38;5;124m -- \u001b[39m\u001b[38;5;124m\"\u001b[39m \u001b[38;5;241m+\u001b[39m \u001b[38;5;28mstr\u001b[39m(value))\n",
      "\u001b[1;31mValueError\u001b[0m: too many values to unpack (expected 2)"
     ]
    }
   ],
   "source": [
    "world = {\"india\":6.5, \"bangladesh\":4.2, \"china\":5.0}\n",
    "for key, value in world :\n",
    "    print(key + \" -- \" + str(value))"
   ]
  },
  {
   "cell_type": "code",
   "execution_count": 82,
   "id": "af48907e-3f3d-4803-8b63-4ceb99b9be99",
   "metadata": {},
   "outputs": [
    {
     "name": "stdout",
     "output_type": "stream",
     "text": [
      "india -- 6.5\n",
      "bangladesh -- 4.2\n",
      "china -- 5.0\n"
     ]
    }
   ],
   "source": [
    "for key, value in world.items() :\n",
    "    print(key + \" -- \" + str(value))"
   ]
  }
 ],
 "metadata": {
  "kernelspec": {
   "display_name": "Python 3 (ipykernel)",
   "language": "python",
   "name": "python3"
  },
  "language_info": {
   "codemirror_mode": {
    "name": "ipython",
    "version": 3
   },
   "file_extension": ".py",
   "mimetype": "text/x-python",
   "name": "python",
   "nbconvert_exporter": "python",
   "pygments_lexer": "ipython3",
   "version": "3.12.7"
  }
 },
 "nbformat": 4,
 "nbformat_minor": 5
}
