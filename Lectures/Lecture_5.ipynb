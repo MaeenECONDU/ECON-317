{
 "cells": [
  {
   "cell_type": "code",
   "execution_count": 4,
   "id": "eb0a741d-f6b7-4504-af75-5314c3fb5ae2",
   "metadata": {},
   "outputs": [],
   "source": [
    "from csv import reader\n",
    "import numpy as np"
   ]
  },
  {
   "cell_type": "code",
   "execution_count": 5,
   "id": "01988f07-5a30-47db-b2c2-da842c5a6cc4",
   "metadata": {},
   "outputs": [],
   "source": [
    "f = open(\"nyc_taxis.csv\", encoding='utf-8')"
   ]
  },
  {
   "cell_type": "code",
   "execution_count": 6,
   "id": "eb476eba-4ce2-42ea-bff0-dadc3215c01d",
   "metadata": {},
   "outputs": [],
   "source": [
    "reading = reader(f)\n",
    "taxi = list(reading)"
   ]
  },
  {
   "cell_type": "code",
   "execution_count": 8,
   "id": "1287e71b-3771-4ddd-af14-e5ee6d641423",
   "metadata": {},
   "outputs": [],
   "source": [
    "#taxi"
   ]
  },
  {
   "cell_type": "code",
   "execution_count": 10,
   "id": "f94664cb-15a9-4211-b9d0-501fdc4d1faf",
   "metadata": {},
   "outputs": [
    {
     "data": {
      "text/plain": [
       "['pickup_year',\n",
       " 'pickup_month',\n",
       " 'pickup_day',\n",
       " 'pickup_dayofweek',\n",
       " 'pickup_time',\n",
       " 'pickup_location_code',\n",
       " 'dropoff_location_code',\n",
       " 'trip_distance',\n",
       " 'trip_length',\n",
       " 'fare_amount',\n",
       " 'fees_amount',\n",
       " 'tolls_amount',\n",
       " 'tip_amount',\n",
       " 'total_amount',\n",
       " 'payment_type']"
      ]
     },
     "execution_count": 10,
     "metadata": {},
     "output_type": "execute_result"
    }
   ],
   "source": [
    "taxi[0]"
   ]
  },
  {
   "cell_type": "code",
   "execution_count": null,
   "id": "51ac7859-5d86-4d65-b58e-7e15e6c575b9",
   "metadata": {},
   "outputs": [],
   "source": []
  },
  {
   "cell_type": "code",
   "execution_count": null,
   "id": "7e802d2a-14d8-4ce1-8972-929c14bd8f09",
   "metadata": {},
   "outputs": [],
   "source": []
  },
  {
   "cell_type": "code",
   "execution_count": null,
   "id": "69521aa9-4a8f-4519-b878-6b5a9741d575",
   "metadata": {},
   "outputs": [],
   "source": []
  },
  {
   "cell_type": "code",
   "execution_count": null,
   "id": "86d535e8-19dd-4833-9b19-353cee9475cf",
   "metadata": {},
   "outputs": [],
   "source": []
  },
  {
   "cell_type": "code",
   "execution_count": null,
   "id": "224ec48d-a42b-4aba-a55f-252d0d82990d",
   "metadata": {},
   "outputs": [],
   "source": []
  },
  {
   "cell_type": "code",
   "execution_count": null,
   "id": "2d57a6f7-799c-4263-85c0-bff330dd3386",
   "metadata": {},
   "outputs": [],
   "source": []
  },
  {
   "cell_type": "code",
   "execution_count": null,
   "id": "7d7d02a0-bf2b-4cf6-a861-8b6273c95a01",
   "metadata": {},
   "outputs": [],
   "source": []
  }
 ],
 "metadata": {
  "kernelspec": {
   "display_name": "Python 3 (ipykernel)",
   "language": "python",
   "name": "python3"
  },
  "language_info": {
   "codemirror_mode": {
    "name": "ipython",
    "version": 3
   },
   "file_extension": ".py",
   "mimetype": "text/x-python",
   "name": "python",
   "nbconvert_exporter": "python",
   "pygments_lexer": "ipython3",
   "version": "3.12.7"
  }
 },
 "nbformat": 4,
 "nbformat_minor": 5
}
