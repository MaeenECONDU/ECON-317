{
 "cells": [
  {
   "cell_type": "markdown",
   "id": "bf8a5a8c-aa3c-4d50-8964-cbc1d2f52583",
   "metadata": {},
   "source": [
    "## Python\n",
    "![logo](python_logo.png \"logo\")\n",
    "\n",
    "It was designed by **Guido van Rossum**, a Dutch programmer\n",
    "\n",
    "![Rossum](rossum.png \"Guido van Rossum\")\n",
    "\n",
    "#### Why Python?\n",
    "* You can build almost anything using Python. \n",
    "* Updated and new statistical techniques for social sciences are being implemented as Python packages. So, it is universal. \n",
    "* It is FREE!!!\n",
    "* Most popular because of its simplicity and less steeper learning curve than other languages\n",
    "* Enables easy collaboration among natural, social and data scientists.\n"
   ]
  },
  {
   "cell_type": "markdown",
   "id": "fbc960a2-f168-47e8-beaf-0a4a2579faa7",
   "metadata": {
    "jp-MarkdownHeadingCollapsed": true
   },
   "source": [
    "### Jupyter Notebook\n",
    "![Jupyter](jupyter.png \"Jupyter Notebook\")\n",
    "\n",
    "* It is an open-source web platform designed for the creation and sharing of documents that include texts, codes and visual contents.\n",
    "* It supports more than 40 programming languages.\n",
    "* Notebook files have .ipynb extension and can be easily shared in GitHub\n",
    "\n",
    "#### Markdown \n",
    "* It is a markup language that can be converted to HTML or other formats. \n",
    "\n",
    "#### Launching Jupyter Notebook\n",
    "* Anaconda Navigator, or\n",
    "* Typing 'jupyter notebook' in Terminal/PowerShell "
   ]
  },
  {
   "cell_type": "markdown",
   "id": "a332b5f7-d611-4bcb-8086-318e340c06c2",
   "metadata": {},
   "source": [
    "### GitHub\n",
    "![GutHub Octocat](git_icon.jpg \"GutHub Octocat\")\n",
    "\n",
    "* GitHub is a code hosting platform for version control and collaboration\n",
    "* It was created by Linus Torvalds in 2005 and Microsoft bought it in 2018\n",
    "\n",
    "#### Getting Started\n",
    "* Creating account on https://github.com/\n",
    "* Options to interact with it, \n",
    "  1.Command line\n",
    "  2.Github Desktop \n",
    "  3.Desktop\n",
    "\n",
    "#### What is Command Line?\n",
    "* Terminal = Console = Power Shell = Command Line = Command Prompt\n",
    "* Platform to access files, run programs, and execute commands\n",
    "* Provides scripts for reproducible workflows across different operating systems\n"
   ]
  },
  {
   "cell_type": "markdown",
   "id": "9b53caf7-4fa7-4e1e-8221-b75ee95df8fa",
   "metadata": {},
   "source": [
    "#### Course of action for the students of ECON 317:\n",
    "1. Go to https://www.python.org/. Download and install Python.\n",
    "2. Open the installer and click on 'Add python.exe to path'.\n",
    "3. Go with the default option and install python.\n",
    "4. Go to terminal/ PowerShell and type 'Python --version' to check if it is installed or not.\n",
    "5. If installed properly it will show the Python version.\n",
    "6. If not it will show an error. In that case, go to the Python folder and copy the path.\n",
    "7. Also copy the script folder path.\n",
    "8. Then go the environment and paste this two paths in the path list by clicking edit.\n",
    "9. Then again check the python version using terminal/PowerShell\n",
    "    \n",
    "10. Now we will install Jupyter Notebook using pip command. Pip is included in the Python installation process. So it should work by default.\n",
    "11. In the terminal/PowerShell type 'pip install jupyter' and press enter.\n",
    "12. Now check 'jupyter-- version'. If installed properly you will get the version displayed. Otherwise, navigate to the jupyter folder and paste the paths in the environment variables, just the way it should be done for python.\n",
    "    \n",
    "13. Go to https://github.com/ (https://github.com/) and make an account. \n",
    "14. Post the name of your GitHub account in the google form supplied in the classroom.\n",
    "15. Download and install GitHub desktop.\n",
    "16. Go to https://github.com/TAD600/ECON-317\n",
    "17. Click on the **Code** tab in green color and then click 'Clone using the web URL.'\n",
    "18. It will open GitHub Desktop. Then clone the repository to a folder you want to have your course materials in.\n",
    "19. If you copy paste of the path of your cloned repository folder and in ther terminal/PowerShell you type cd \"path\" and press enter, it will set the path to your repository.\n",
    "20. Then type jupyter notebook and press enter. It will open your explorer to the browser you are correctly working on.\n",
    "21. Find the Lecture1.ipynb file and click it. Here you are!!!\n",
    "22. Now we are on the same page. \n",
    "\n",
    "*Reference: This YouTube video is quite easy to follow https://www.youtube.com/watch?v=HLD-Ll_-IT4&t=3s*"
   ]
  },
  {
   "cell_type": "markdown",
   "id": "f9fd2feb-e842-4eff-aef9-3cdae04d6c15",
   "metadata": {},
   "source": [
    "#### Jupyter Notebook Keyboard Shortcuts:\n",
    "* Ctrl + Enter --> runs command\n",
    "* Ctrl + Z --> Undo\n",
    "* Shit + # --> commenting out a code\n",
    "* Ctrl + / --> uncomment\n",
    "* Alt + Enter --> run the current cell and enter a new cell below\n",
    "* Shift + Enter --> run the current cell and select the cell below\n",
    "* \n",
    "**Basic rules of markdown**  [cheatsheet](https://github.com/adam-p/markdown-here/wiki/Markdown-Cheatsheet)\n",
    "* For mac users 'Ctrl' should be substituted with 'command' "
   ]
  },
  {
   "cell_type": "markdown",
   "id": "d5704a08-39d7-43e3-bfde-f6394a31deb3",
   "metadata": {},
   "source": [
    "### Python as a calculator"
   ]
  },
  {
   "cell_type": "code",
   "execution_count": 16,
   "id": "e7f1ad02-0f0f-4cc3-b41a-8fa09f23fbf7",
   "metadata": {},
   "outputs": [
    {
     "name": "stdout",
     "output_type": "stream",
     "text": [
      "172\n"
     ]
    }
   ],
   "source": [
    "print(170 + 2)"
   ]
  },
  {
   "cell_type": "code",
   "execution_count": 13,
   "id": "ddfdf6b0-9023-40c8-b007-c581403a2a45",
   "metadata": {},
   "outputs": [
    {
     "name": "stdout",
     "output_type": "stream",
     "text": [
      "168\n"
     ]
    }
   ],
   "source": [
    "print(170 - 2)"
   ]
  },
  {
   "cell_type": "code",
   "execution_count": 14,
   "id": "6b21ccf4-18db-4779-9f2a-4c285ac4b6c7",
   "metadata": {},
   "outputs": [
    {
     "name": "stdout",
     "output_type": "stream",
     "text": [
      "340\n"
     ]
    }
   ],
   "source": [
    "print(170 * 2)"
   ]
  },
  {
   "cell_type": "code",
   "execution_count": 15,
   "id": "96455777-8c20-4650-9afc-0b0e3d233d6e",
   "metadata": {},
   "outputs": [
    {
     "name": "stdout",
     "output_type": "stream",
     "text": [
      "85.0\n"
     ]
    }
   ],
   "source": [
    "print(170 / 2)"
   ]
  },
  {
   "cell_type": "markdown",
   "id": "cc71de00-edc4-4d63-8be1-ba4b60cead55",
   "metadata": {},
   "source": [
    "### Variable"
   ]
  },
  {
   "cell_type": "code",
   "execution_count": 17,
   "id": "4bc5a995-be44-4c2a-91fe-cda99d536aca",
   "metadata": {},
   "outputs": [],
   "source": [
    "height = 1.60\n",
    "weight = 75"
   ]
  },
  {
   "cell_type": "code",
   "execution_count": 18,
   "id": "4b137e4d-8e90-4d13-b163-7dc716f88d91",
   "metadata": {},
   "outputs": [
    {
     "data": {
      "text/plain": [
       "1.6"
      ]
     },
     "execution_count": 18,
     "metadata": {},
     "output_type": "execute_result"
    }
   ],
   "source": [
    "height"
   ]
  },
  {
   "cell_type": "code",
   "execution_count": 19,
   "id": "fe677622-b19b-48d1-a595-353a02cc2391",
   "metadata": {},
   "outputs": [
    {
     "data": {
      "text/plain": [
       "75"
      ]
     },
     "execution_count": 19,
     "metadata": {},
     "output_type": "execute_result"
    }
   ],
   "source": [
    "weight"
   ]
  },
  {
   "cell_type": "code",
   "execution_count": 20,
   "id": "cb46aba3-4911-4bc4-a94e-3dcc3debbafe",
   "metadata": {},
   "outputs": [],
   "source": [
    "bmi = weight / height ** 2"
   ]
  },
  {
   "cell_type": "code",
   "execution_count": 22,
   "id": "cff60fd1-953b-47b0-bc1d-a7e51dd36d1f",
   "metadata": {},
   "outputs": [
    {
     "data": {
      "text/plain": [
       "29.296874999999993"
      ]
     },
     "execution_count": 22,
     "metadata": {},
     "output_type": "execute_result"
    }
   ],
   "source": [
    "bmi # If we change the height and weight, bmi will change"
   ]
  },
  {
   "cell_type": "markdown",
   "id": "2dc73c90-ad3d-48b2-9c8f-f9ea680d9eba",
   "metadata": {},
   "source": [
    "### Data Type\n",
    "* float : real numbers\n",
    "* int : integer numbers\n",
    "* str : string, text\n",
    "* bool : True, False"
   ]
  },
  {
   "cell_type": "code",
   "execution_count": 24,
   "id": "21c5c1d3-eac3-47fa-895c-bf345f07d898",
   "metadata": {},
   "outputs": [
    {
     "data": {
      "text/plain": [
       "float"
      ]
     },
     "execution_count": 24,
     "metadata": {},
     "output_type": "execute_result"
    }
   ],
   "source": [
    "type(bmi)"
   ]
  },
  {
   "cell_type": "code",
   "execution_count": 25,
   "id": "f0e26ec9-4b04-4390-a23d-58544aaffb4b",
   "metadata": {},
   "outputs": [],
   "source": [
    "name = 'Bangladesh'"
   ]
  },
  {
   "cell_type": "code",
   "execution_count": 26,
   "id": "5abbf1c6-ffdf-4f16-9f9f-bb2ead5257e0",
   "metadata": {},
   "outputs": [
    {
     "data": {
      "text/plain": [
       "str"
      ]
     },
     "execution_count": 26,
     "metadata": {},
     "output_type": "execute_result"
    }
   ],
   "source": [
    "type(name)"
   ]
  },
  {
   "cell_type": "code",
   "execution_count": 27,
   "id": "8a5b57c8-de9a-4419-8342-3d18f02cd6eb",
   "metadata": {},
   "outputs": [
    {
     "data": {
      "text/plain": [
       "float"
      ]
     },
     "execution_count": 27,
     "metadata": {},
     "output_type": "execute_result"
    }
   ],
   "source": [
    "type(height)"
   ]
  },
  {
   "cell_type": "code",
   "execution_count": 28,
   "id": "0ba730e1-49f4-4b62-b3c0-7e088e4d5603",
   "metadata": {},
   "outputs": [],
   "source": [
    "A = True"
   ]
  },
  {
   "cell_type": "code",
   "execution_count": 29,
   "id": "78b35891-6a77-40ab-8c3b-635aeae49cb7",
   "metadata": {},
   "outputs": [
    {
     "data": {
      "text/plain": [
       "bool"
      ]
     },
     "execution_count": 29,
     "metadata": {},
     "output_type": "execute_result"
    }
   ],
   "source": [
    "type(A)"
   ]
  },
  {
   "cell_type": "code",
   "execution_count": 30,
   "id": "0e30ad8f-3c46-4962-9c50-8b99d6e9fdf0",
   "metadata": {},
   "outputs": [
    {
     "data": {
      "text/plain": [
       "3"
      ]
     },
     "execution_count": 30,
     "metadata": {},
     "output_type": "execute_result"
    }
   ],
   "source": [
    "1 + 2"
   ]
  },
  {
   "cell_type": "code",
   "execution_count": 31,
   "id": "1d1e8009-da32-42fa-b937-756d9ad9875e",
   "metadata": {},
   "outputs": [
    {
     "data": {
      "text/plain": [
       "'12'"
      ]
     },
     "execution_count": 31,
     "metadata": {},
     "output_type": "execute_result"
    }
   ],
   "source": [
    "'1' + '2'"
   ]
  },
  {
   "cell_type": "code",
   "execution_count": 34,
   "id": "1f3e891b-57cc-4434-950e-5e76f1934354",
   "metadata": {},
   "outputs": [
    {
     "data": {
      "text/plain": [
       "'Hello World!'"
      ]
     },
     "execution_count": 34,
     "metadata": {},
     "output_type": "execute_result"
    }
   ],
   "source": [
    "'Hello' + ' World' + '!'"
   ]
  },
  {
   "cell_type": "markdown",
   "id": "6b8b49b1-b718-43cd-8133-bb1f70340795",
   "metadata": {},
   "source": [
    "### Primitive Constructs in Programming Languages"
   ]
  },
  {
   "cell_type": "markdown",
   "id": "e4b6330f-bd4f-4f66-8773-9ef302f60d86",
   "metadata": {},
   "source": [
    "* Literals\n",
    "###### Reference: https://www.geeksforgeeks.org/python/literals-in-python/"
   ]
  },
  {
   "cell_type": "code",
   "execution_count": 6,
   "id": "3117c38b-803e-4d5b-975f-1b32b54e9db5",
   "metadata": {},
   "outputs": [
    {
     "data": {
      "text/plain": [
       "45"
      ]
     },
     "execution_count": 6,
     "metadata": {},
     "output_type": "execute_result"
    }
   ],
   "source": [
    "#numeric lietrals\n",
    "45 "
   ]
  },
  {
   "cell_type": "code",
   "execution_count": 7,
   "id": "e2bd7bd9-e47c-4d99-9f58-2c9ce912a167",
   "metadata": {},
   "outputs": [
    {
     "data": {
      "text/plain": [
       "3.1416"
      ]
     },
     "execution_count": 7,
     "metadata": {},
     "output_type": "execute_result"
    }
   ],
   "source": [
    "#float\n",
    "3.1416 "
   ]
  },
  {
   "cell_type": "code",
   "execution_count": 8,
   "id": "14249c7c-01d6-4812-825a-798f02c4b463",
   "metadata": {},
   "outputs": [
    {
     "data": {
      "text/plain": [
       "'Hello'"
      ]
     },
     "execution_count": 8,
     "metadata": {},
     "output_type": "execute_result"
    }
   ],
   "source": [
    "# string literals\n",
    "'Hello' "
   ]
  },
  {
   "cell_type": "code",
   "execution_count": 9,
   "id": "580ebe9b-3049-47a4-b328-4e7de0585c00",
   "metadata": {},
   "outputs": [
    {
     "data": {
      "text/plain": [
       "'ECON 317'"
      ]
     },
     "execution_count": 9,
     "metadata": {},
     "output_type": "execute_result"
    }
   ],
   "source": [
    "\"ECON 317\""
   ]
  },
  {
   "cell_type": "code",
   "execution_count": 10,
   "id": "c8246ef1-636e-42a1-91cf-dddffd37615c",
   "metadata": {},
   "outputs": [
    {
     "data": {
      "text/plain": [
       "' This is \\nthe first lecture \\nof ECON 317'"
      ]
     },
     "execution_count": 10,
     "metadata": {},
     "output_type": "execute_result"
    }
   ],
   "source": [
    "\"\"\" This is \n",
    "the first lecture \n",
    "of ECON 317\"\"\""
   ]
  },
  {
   "cell_type": "code",
   "execution_count": 11,
   "id": "6907d107-0405-4211-8385-b6d1716db9a8",
   "metadata": {},
   "outputs": [
    {
     "data": {
      "text/plain": [
       "True"
      ]
     },
     "execution_count": 11,
     "metadata": {},
     "output_type": "execute_result"
    }
   ],
   "source": [
    "# Boolean literal\n",
    "True"
   ]
  },
  {
   "cell_type": "code",
   "execution_count": 12,
   "id": "0f328063-546f-4989-a437-352ca5ea4fe4",
   "metadata": {},
   "outputs": [
    {
     "data": {
      "text/plain": [
       "False"
      ]
     },
     "execution_count": 12,
     "metadata": {},
     "output_type": "execute_result"
    }
   ],
   "source": [
    "False"
   ]
  },
  {
   "cell_type": "code",
   "execution_count": 13,
   "id": "46625341-d929-4400-9f1b-e30e567d8fbc",
   "metadata": {},
   "outputs": [],
   "source": [
    "a = 2"
   ]
  },
  {
   "cell_type": "code",
   "execution_count": 14,
   "id": "13a3e413-6310-48a2-9a48-30704371ba07",
   "metadata": {},
   "outputs": [
    {
     "data": {
      "text/plain": [
       "True"
      ]
     },
     "execution_count": 14,
     "metadata": {},
     "output_type": "execute_result"
    }
   ],
   "source": [
    "1 + 1 == a"
   ]
  },
  {
   "cell_type": "code",
   "execution_count": 15,
   "id": "f7ba9d47-dcdf-4dc9-9479-7100bd02d733",
   "metadata": {},
   "outputs": [
    {
     "data": {
      "text/plain": [
       "False"
      ]
     },
     "execution_count": 15,
     "metadata": {},
     "output_type": "execute_result"
    }
   ],
   "source": [
    "2 +3 == a"
   ]
  },
  {
   "cell_type": "code",
   "execution_count": 16,
   "id": "910d0b91-986e-447a-ba02-09167232839f",
   "metadata": {},
   "outputs": [
    {
     "data": {
      "text/plain": [
       "True"
      ]
     },
     "execution_count": 16,
     "metadata": {},
     "output_type": "execute_result"
    }
   ],
   "source": [
    "2 - 3 != a"
   ]
  },
  {
   "cell_type": "code",
   "execution_count": 17,
   "id": "9dded4fe-58c6-4334-b380-e874dadcbeb2",
   "metadata": {},
   "outputs": [],
   "source": [
    "# collections as literals\n",
    "a_list = [1, 4, 5] \n",
    "a_tuple = (1, 4, \"five\")\n",
    "a_dictionary = {\"key1\": 1, \"key2\": 4, \"key5\": 123}\n",
    "a_set = {1, 4, 5} # a set stores only unique elements"
   ]
  },
  {
   "cell_type": "code",
   "execution_count": 18,
   "id": "7832da1a-ab20-4fbe-8a0b-aa403986a118",
   "metadata": {},
   "outputs": [],
   "source": [
    "# special literal \n",
    "None"
   ]
  },
  {
   "cell_type": "markdown",
   "id": "223978c4-be88-46b0-9668-6272632e0fe1",
   "metadata": {},
   "source": [
    "* Infix operators"
   ]
  },
  {
   "cell_type": "code",
   "execution_count": 19,
   "id": "1acb0961-c7da-4245-99c1-a4758058595e",
   "metadata": {},
   "outputs": [],
   "source": [
    "## Arithmetic Operators:\n",
    "#  + (addition): a + b\n",
    "# - (subtraction): a - b\n",
    "# * (multiplication): a * b\n",
    "# / (division): a / b\n",
    "# // (floor division): a // b\n",
    "# % (modulus): a % b\n",
    "# ** (exponentiation): a ** b"
   ]
  },
  {
   "cell_type": "code",
   "execution_count": 20,
   "id": "ff3ea721-3bdc-4474-877c-ce142195e526",
   "metadata": {},
   "outputs": [],
   "source": [
    "a = 10\n",
    "b = 3"
   ]
  },
  {
   "cell_type": "code",
   "execution_count": 21,
   "id": "d5a562e2-97e1-4e39-b13a-cc517d540216",
   "metadata": {},
   "outputs": [],
   "source": [
    "# Comparison Operators:\n",
    "# == (equal to): a == b\n",
    "# != (not equal to): a != b\n",
    "# < (less than): a < b\n",
    "# > (greater than): a > b\n",
    "# <= (less than or equal to): a <= b\n",
    "# >= (greater than or equal to): a >= b"
   ]
  },
  {
   "cell_type": "code",
   "execution_count": null,
   "id": "63b76c6e-05ee-4ff6-bf1a-8bd6e01351d5",
   "metadata": {},
   "outputs": [],
   "source": []
  },
  {
   "cell_type": "code",
   "execution_count": 40,
   "id": "5aa08dbd-d5e6-4788-bf51-f5dbd39544d3",
   "metadata": {},
   "outputs": [],
   "source": [
    "#Logical Operators:\n",
    "# and: 1st condition and 2nd condition\n",
    "# or: 1st condition and 2nd condition"
   ]
  },
  {
   "cell_type": "code",
   "execution_count": 41,
   "id": "f8067500-7f55-438e-9154-0ffd3c18af99",
   "metadata": {},
   "outputs": [
    {
     "data": {
      "text/plain": [
       "False"
      ]
     },
     "execution_count": 41,
     "metadata": {},
     "output_type": "execute_result"
    }
   ],
   "source": [
    "a> 50 and b <50"
   ]
  },
  {
   "cell_type": "code",
   "execution_count": 43,
   "id": "8cd282fd-cc4e-4e8f-9e82-d5409d6027b6",
   "metadata": {},
   "outputs": [
    {
     "data": {
      "text/plain": [
       "True"
      ]
     },
     "execution_count": 43,
     "metadata": {},
     "output_type": "execute_result"
    }
   ],
   "source": [
    "a == 10 and b <30"
   ]
  },
  {
   "cell_type": "code",
   "execution_count": 44,
   "id": "181558f6-2822-4954-a6ad-2f0ca8943d2b",
   "metadata": {},
   "outputs": [
    {
     "data": {
      "text/plain": [
       "True"
      ]
     },
     "execution_count": 44,
     "metadata": {},
     "output_type": "execute_result"
    }
   ],
   "source": [
    "a> 50 or b <50"
   ]
  },
  {
   "cell_type": "code",
   "execution_count": 45,
   "id": "d7b6a6b2-63e9-4126-a239-c9a5ccaacbea",
   "metadata": {},
   "outputs": [
    {
     "data": {
      "text/plain": [
       "True"
      ]
     },
     "execution_count": 45,
     "metadata": {},
     "output_type": "execute_result"
    }
   ],
   "source": [
    "a == 10 or b <30"
   ]
  },
  {
   "cell_type": "markdown",
   "id": "806354bf-01fd-49f4-bcd6-b22534c941c1",
   "metadata": {},
   "source": [
    "### Syntax: \n",
    "It is the rules for forming strings of characters and symbols. Every programming language has its unique syntax"
   ]
  },
  {
   "cell_type": "code",
   "execution_count": 4,
   "id": "a11cfe9d-bacb-4002-bd39-fe91207e2f6a",
   "metadata": {},
   "outputs": [
    {
     "data": {
      "text/plain": [
       "510.5"
      ]
     },
     "execution_count": 4,
     "metadata": {},
     "output_type": "execute_result"
    }
   ],
   "source": [
    "510 + 0.5"
   ]
  },
  {
   "cell_type": "code",
   "execution_count": 5,
   "id": "2c5ec5ee-dd78-47e7-9b35-423a1b14d159",
   "metadata": {},
   "outputs": [
    {
     "ename": "SyntaxError",
     "evalue": "invalid syntax (813511822.py, line 1)",
     "output_type": "error",
     "traceback": [
      "\u001b[1;36m  Cell \u001b[1;32mIn[5], line 1\u001b[1;36m\u001b[0m\n\u001b[1;33m    510 0.5\u001b[0m\n\u001b[1;37m        ^\u001b[0m\n\u001b[1;31mSyntaxError\u001b[0m\u001b[1;31m:\u001b[0m invalid syntax\n"
     ]
    }
   ],
   "source": [
    "510 0.5"
   ]
  },
  {
   "cell_type": "markdown",
   "id": "a0269983-5bb1-4190-bbb3-7f7976997c46",
   "metadata": {},
   "source": [
    "### Static Semantics:\n",
    "It is the rules for syntactically valid and meaningful strings (objects) in a programming language"
   ]
  },
  {
   "cell_type": "code",
   "execution_count": 6,
   "id": "fb6ef41e-818a-4a84-9bb3-05888f94cbb9",
   "metadata": {},
   "outputs": [
    {
     "ename": "TypeError",
     "evalue": "unsupported operand type(s) for /: 'str' and 'int'",
     "output_type": "error",
     "traceback": [
      "\u001b[1;31m---------------------------------------------------------------------------\u001b[0m",
      "\u001b[1;31mTypeError\u001b[0m                                 Traceback (most recent call last)",
      "Cell \u001b[1;32mIn[6], line 1\u001b[0m\n\u001b[1;32m----> 1\u001b[0m \u001b[38;5;124m'\u001b[39m\u001b[38;5;124mEconomics\u001b[39m\u001b[38;5;124m'\u001b[39m\u001b[38;5;241m/\u001b[39m\u001b[38;5;241m4\u001b[39m\n",
      "\u001b[1;31mTypeError\u001b[0m: unsupported operand type(s) for /: 'str' and 'int'"
     ]
    }
   ],
   "source": [
    "'Economics'/4"
   ]
  },
  {
   "cell_type": "markdown",
   "id": "5fb8e18e-7526-45d6-bac8-12db2635cf63",
   "metadata": {},
   "source": [
    "## Lists\n",
    "* list is an **ordered** sequence of values. \n",
    "* It can contain any type\n",
    "* It can contain different types simultenously"
   ]
  },
  {
   "cell_type": "code",
   "execution_count": 12,
   "id": "fdd3fcd7-1f51-4ade-9e43-aaa5d235a3f5",
   "metadata": {},
   "outputs": [],
   "source": [
    "height = [1.72, 1.57, 1.8] "
   ]
  },
  {
   "cell_type": "code",
   "execution_count": 36,
   "id": "18c9b692-a031-4991-9ccf-89f6b54a41ce",
   "metadata": {},
   "outputs": [
    {
     "data": {
      "text/plain": [
       "list"
      ]
     },
     "execution_count": 36,
     "metadata": {},
     "output_type": "execute_result"
    }
   ],
   "source": [
    "type(height)"
   ]
  },
  {
   "cell_type": "code",
   "execution_count": 37,
   "id": "367104eb-1368-42ac-af76-a37cd7ad3380",
   "metadata": {},
   "outputs": [
    {
     "data": {
      "text/plain": [
       "1.72"
      ]
     },
     "execution_count": 37,
     "metadata": {},
     "output_type": "execute_result"
    }
   ],
   "source": [
    "height[0]"
   ]
  },
  {
   "cell_type": "code",
   "execution_count": 38,
   "id": "6c4651e0-fe00-483d-a8d3-191838e16819",
   "metadata": {},
   "outputs": [
    {
     "data": {
      "text/plain": [
       "1.8"
      ]
     },
     "execution_count": 38,
     "metadata": {},
     "output_type": "execute_result"
    }
   ],
   "source": [
    "height[2]"
   ]
  },
  {
   "cell_type": "code",
   "execution_count": 39,
   "id": "6606674f-6723-45ed-a007-c84cb6a84c13",
   "metadata": {},
   "outputs": [
    {
     "data": {
      "text/plain": [
       "1.8"
      ]
     },
     "execution_count": 39,
     "metadata": {},
     "output_type": "execute_result"
    }
   ],
   "source": [
    "height[-1]"
   ]
  },
  {
   "cell_type": "code",
   "execution_count": 40,
   "id": "9e4b4663-3400-4b39-844b-ab4d29dc5064",
   "metadata": {},
   "outputs": [],
   "source": [
    "member_height = ['A', 1.72, 'B', 1.57, 'C', 1.8]"
   ]
  },
  {
   "cell_type": "code",
   "execution_count": 41,
   "id": "47d5e2ac-5387-42ee-ab2e-2416dd87514e",
   "metadata": {},
   "outputs": [
    {
     "data": {
      "text/plain": [
       "['A', 1.72, 'B']"
      ]
     },
     "execution_count": 41,
     "metadata": {},
     "output_type": "execute_result"
    }
   ],
   "source": [
    "#slicing\n",
    "member_height[:3]"
   ]
  },
  {
   "cell_type": "code",
   "execution_count": 43,
   "id": "e5daf137-b609-42e4-bbe8-e86f0dea0ea9",
   "metadata": {},
   "outputs": [
    {
     "data": {
      "text/plain": [
       "['B', 1.57, 'C']"
      ]
     },
     "execution_count": 43,
     "metadata": {},
     "output_type": "execute_result"
    }
   ],
   "source": [
    "member_height[2:5]"
   ]
  },
  {
   "cell_type": "code",
   "execution_count": 44,
   "id": "a3b0cdb2-057f-4c50-8256-ee51b925c4f1",
   "metadata": {},
   "outputs": [
    {
     "data": {
      "text/plain": [
       "[1.57, 'C', 1.8]"
      ]
     },
     "execution_count": 44,
     "metadata": {},
     "output_type": "execute_result"
    }
   ],
   "source": [
    "member_height[3:]"
   ]
  },
  {
   "cell_type": "code",
   "execution_count": 45,
   "id": "415f1756-1737-4817-ac01-dcb22ee56e32",
   "metadata": {},
   "outputs": [],
   "source": [
    "A = [1, 2, 3]"
   ]
  },
  {
   "cell_type": "code",
   "execution_count": 46,
   "id": "d794edfd-3a36-46ed-909d-e7dfa75ee8e2",
   "metadata": {},
   "outputs": [],
   "source": [
    "A.append(4)"
   ]
  },
  {
   "cell_type": "code",
   "execution_count": 47,
   "id": "c5082532-9538-437f-8687-3adbba3424c6",
   "metadata": {},
   "outputs": [
    {
     "data": {
      "text/plain": [
       "[1, 2, 3, 4]"
      ]
     },
     "execution_count": 47,
     "metadata": {},
     "output_type": "execute_result"
    }
   ],
   "source": [
    "A"
   ]
  },
  {
   "cell_type": "code",
   "execution_count": null,
   "id": "245e226f-a722-48a4-a3fa-c498c3a3165d",
   "metadata": {},
   "outputs": [],
   "source": [
    "# append, insert, count, extend, clear, index, remove, pop, reverse, sort, copy"
   ]
  },
  {
   "cell_type": "code",
   "execution_count": 13,
   "id": "3ba358f8-8ca0-46c7-b060-c199670cba61",
   "metadata": {},
   "outputs": [],
   "source": [
    "p = set(height)"
   ]
  },
  {
   "cell_type": "code",
   "execution_count": 14,
   "id": "bb25d349-b07e-4fb8-bda1-59dac99ff8cb",
   "metadata": {},
   "outputs": [
    {
     "data": {
      "text/plain": [
       "{1.57, 1.72, 1.8}"
      ]
     },
     "execution_count": 14,
     "metadata": {},
     "output_type": "execute_result"
    }
   ],
   "source": [
    "p"
   ]
  },
  {
   "cell_type": "markdown",
   "id": "c2e6d162-5634-4c90-9e07-c24c1d35baa5",
   "metadata": {},
   "source": [
    "### Set\n",
    "* It is an unordered collection of elements\n",
    "* It can containt elements of any type.\n",
    "* It can contain different elements simaltenously. "
   ]
  },
  {
   "cell_type": "code",
   "execution_count": null,
   "id": "28f177ed-a9a4-4919-9f4f-a4cd517495d7",
   "metadata": {},
   "outputs": [],
   "source": [
    "# add, clear, copy, remove, issubset, issuperset, isdisjoint, intersection, difference, symmetric_difference, union"
   ]
  },
  {
   "cell_type": "code",
   "execution_count": null,
   "id": "ab2ccce6-a544-49f9-bdfa-491837bb9460",
   "metadata": {},
   "outputs": [],
   "source": []
  },
  {
   "cell_type": "code",
   "execution_count": 7,
   "id": "3f2d2eb2-7c3a-4e64-a7fd-ceb85cb25dff",
   "metadata": {},
   "outputs": [],
   "source": [
    "# Set to list and vice versa"
   ]
  },
  {
   "cell_type": "code",
   "execution_count": 8,
   "id": "08b32b6a-d1a4-4182-8fea-f401fce0be3b",
   "metadata": {},
   "outputs": [],
   "source": [
    "set1 = {1,2,3}"
   ]
  },
  {
   "cell_type": "code",
   "execution_count": 9,
   "id": "da8a1c08-ad6e-4f8f-8f2d-92d2a0e738dd",
   "metadata": {},
   "outputs": [],
   "source": [
    "l = list(set1)"
   ]
  },
  {
   "cell_type": "code",
   "execution_count": 10,
   "id": "dd6eec07-6f99-47d2-85cd-592650223262",
   "metadata": {},
   "outputs": [
    {
     "data": {
      "text/plain": [
       "[1, 2, 3]"
      ]
     },
     "execution_count": 10,
     "metadata": {},
     "output_type": "execute_result"
    }
   ],
   "source": [
    "l"
   ]
  },
  {
   "cell_type": "code",
   "execution_count": null,
   "id": "2708c498-39fd-49e1-b12f-fcf396c55b3d",
   "metadata": {},
   "outputs": [],
   "source": []
  },
  {
   "cell_type": "markdown",
   "id": "bc1eed38-3fd3-48bd-8f83-e666784b8e1f",
   "metadata": {},
   "source": [
    "### String\n",
    "* ordered text element\n",
    "* always inside inverted commas\n",
    "* Applying methods does not change the original string. It requires naming it as a new variable to retain the change."
   ]
  },
  {
   "cell_type": "code",
   "execution_count": null,
   "id": "4dc78263-5d8c-48dd-a0cb-5ca2d88e5809",
   "metadata": {},
   "outputs": [],
   "source": [
    "#upper, lower, title, swapcase, capitalize, replace, lstrip, rstrip, strip, join, islower, istitle, isupper, index\n",
    "# Look here for more: https://www.geeksforgeeks.org/python/python-string-methods/"
   ]
  },
  {
   "cell_type": "code",
   "execution_count": 3,
   "id": "2dfe4f8a-ff53-46d2-93e9-056e8a3bfa72",
   "metadata": {},
   "outputs": [],
   "source": [
    "text = 'This is Saturday'"
   ]
  },
  {
   "cell_type": "code",
   "execution_count": null,
   "id": "dd2e55c5-3e7f-4f87-ae9f-cbd91f2fdbdc",
   "metadata": {},
   "outputs": [],
   "source": []
  },
  {
   "cell_type": "code",
   "execution_count": null,
   "id": "8dfedefe-ea3b-4bc1-8877-325816b3e1c4",
   "metadata": {},
   "outputs": [],
   "source": []
  },
  {
   "cell_type": "code",
   "execution_count": null,
   "id": "931672a4-2dca-4882-a477-8d8bc1e73bea",
   "metadata": {},
   "outputs": [],
   "source": []
  },
  {
   "cell_type": "code",
   "execution_count": null,
   "id": "5e5779c9-2d01-4780-8591-ec653aba0586",
   "metadata": {},
   "outputs": [],
   "source": [
    "# Formating a string"
   ]
  },
  {
   "cell_type": "code",
   "execution_count": null,
   "id": "4d24ebaf-8357-4c58-9d2c-c6cfe5ba2321",
   "metadata": {},
   "outputs": [],
   "source": []
  },
  {
   "cell_type": "code",
   "execution_count": null,
   "id": "55d721d4-6615-4c12-a742-fb823a2e5282",
   "metadata": {},
   "outputs": [],
   "source": []
  },
  {
   "cell_type": "markdown",
   "id": "68881db9-7ad0-4269-aef5-8fa73c1b5e8f",
   "metadata": {},
   "source": [
    "### Mutability\n",
    "If a python object is changable once it is created it is mutable. Otherwise, it is immutable\n",
    "* Immutable: integer, float, string, tuple\n",
    "* Mutable: list, dictionary, set"
   ]
  },
  {
   "cell_type": "code",
   "execution_count": 9,
   "id": "62d7d439-4821-46ef-bcef-cbb9a3163359",
   "metadata": {},
   "outputs": [
    {
     "ename": "TypeError",
     "evalue": "'tuple' object does not support item assignment",
     "output_type": "error",
     "traceback": [
      "\u001b[1;31m---------------------------------------------------------------------------\u001b[0m",
      "\u001b[1;31mTypeError\u001b[0m                                 Traceback (most recent call last)",
      "Cell \u001b[1;32mIn[9], line 3\u001b[0m\n\u001b[0;32m      1\u001b[0m \u001b[38;5;66;03m# Example 1\u001b[39;00m\n\u001b[0;32m      2\u001b[0m tuple1 \u001b[38;5;241m=\u001b[39m (\u001b[38;5;241m1\u001b[39m, \u001b[38;5;241m2\u001b[39m, \u001b[38;5;241m3\u001b[39m, \u001b[38;5;241m4\u001b[39m) \n\u001b[1;32m----> 3\u001b[0m tuple1[\u001b[38;5;241m0\u001b[39m] \u001b[38;5;241m=\u001b[39m \u001b[38;5;241m5\u001b[39m\n\u001b[0;32m      4\u001b[0m \u001b[38;5;28mprint\u001b[39m(tuple1)\n",
      "\u001b[1;31mTypeError\u001b[0m: 'tuple' object does not support item assignment"
     ]
    }
   ],
   "source": [
    "# Example 1\n",
    "tuple1 = (1, 2, 3, 4) \n",
    "tuple1[0] = 5\n",
    "print(tuple1)"
   ]
  },
  {
   "cell_type": "code",
   "execution_count": 8,
   "id": "7e19535d-bf32-4546-ab50-0c7bc2997ff1",
   "metadata": {},
   "outputs": [
    {
     "ename": "TypeError",
     "evalue": "'str' object does not support item assignment",
     "output_type": "error",
     "traceback": [
      "\u001b[1;31m---------------------------------------------------------------------------\u001b[0m",
      "\u001b[1;31mTypeError\u001b[0m                                 Traceback (most recent call last)",
      "Cell \u001b[1;32mIn[8], line 3\u001b[0m\n\u001b[0;32m      1\u001b[0m \u001b[38;5;66;03m# strings are immutable \u001b[39;00m\n\u001b[0;32m      2\u001b[0m text \u001b[38;5;241m=\u001b[39m \u001b[38;5;124m\"\u001b[39m\u001b[38;5;124mThis is day 1 for ECON 317\u001b[39m\u001b[38;5;124m\"\u001b[39m\n\u001b[1;32m----> 3\u001b[0m text[\u001b[38;5;241m0\u001b[39m] \u001b[38;5;241m=\u001b[39m \u001b[38;5;124m'\u001b[39m\u001b[38;5;124mW\u001b[39m\u001b[38;5;124m'\u001b[39m\n\u001b[0;32m      4\u001b[0m \u001b[38;5;28mprint\u001b[39m(text)\n",
      "\u001b[1;31mTypeError\u001b[0m: 'str' object does not support item assignment"
     ]
    }
   ],
   "source": [
    "#Example 2\n",
    "text = \"This is day 1 for ECON 317\"\n",
    "text[0] = 'W'\n",
    "print(text)"
   ]
  },
  {
   "cell_type": "code",
   "execution_count": 7,
   "id": "b5dea8d2-fccd-4538-8874-7c4e4d0878be",
   "metadata": {},
   "outputs": [
    {
     "name": "stdout",
     "output_type": "stream",
     "text": [
      "[5, 2, 3, 4]\n"
     ]
    }
   ],
   "source": [
    "# Example 3\n",
    "alist = [1, 2, 3, 4]\n",
    "alist[0] = 5\n",
    "print(alist)"
   ]
  },
  {
   "cell_type": "code",
   "execution_count": 10,
   "id": "dc39b12e-5ce1-4763-b77e-ccb2c7be198d",
   "metadata": {},
   "outputs": [
    {
     "ename": "TypeError",
     "evalue": "'set' object does not support item assignment",
     "output_type": "error",
     "traceback": [
      "\u001b[1;31m---------------------------------------------------------------------------\u001b[0m",
      "\u001b[1;31mTypeError\u001b[0m                                 Traceback (most recent call last)",
      "Cell \u001b[1;32mIn[10], line 3\u001b[0m\n\u001b[0;32m      1\u001b[0m \u001b[38;5;66;03m# Example 4\u001b[39;00m\n\u001b[0;32m      2\u001b[0m aset \u001b[38;5;241m=\u001b[39m {\u001b[38;5;241m1\u001b[39m,\u001b[38;5;241m2\u001b[39m,\u001b[38;5;241m3\u001b[39m,\u001b[38;5;241m4\u001b[39m}\n\u001b[1;32m----> 3\u001b[0m aset[\u001b[38;5;241m0\u001b[39m] \u001b[38;5;241m=\u001b[39m \u001b[38;5;241m5\u001b[39m\n\u001b[0;32m      4\u001b[0m \u001b[38;5;28mprint\u001b[39m(aset)\n",
      "\u001b[1;31mTypeError\u001b[0m: 'set' object does not support item assignment"
     ]
    }
   ],
   "source": [
    "# Example 4\n",
    "aset = {1,2,3,4}\n",
    "aset[0] = 5\n",
    "print(aset) \n",
    "# This is item assignment which is notsupported in set object"
   ]
  },
  {
   "cell_type": "code",
   "execution_count": 11,
   "id": "5b783689-e798-453f-a96a-a38964756c5e",
   "metadata": {},
   "outputs": [
    {
     "name": "stdout",
     "output_type": "stream",
     "text": [
      "{1, 2, 3, 4, 5}\n"
     ]
    }
   ],
   "source": [
    "#Example 5\n",
    "aset.add(5)\n",
    "print(aset)"
   ]
  },
  {
   "cell_type": "code",
   "execution_count": null,
   "id": "d785451f-d2b0-4806-82cb-0570d20dff4f",
   "metadata": {},
   "outputs": [],
   "source": []
  }
 ],
 "metadata": {
  "kernelspec": {
   "display_name": "Python 3 (ipykernel)",
   "language": "python",
   "name": "python3"
  },
  "language_info": {
   "codemirror_mode": {
    "name": "ipython",
    "version": 3
   },
   "file_extension": ".py",
   "mimetype": "text/x-python",
   "name": "python",
   "nbconvert_exporter": "python",
   "pygments_lexer": "ipython3",
   "version": "3.12.7"
  }
 },
 "nbformat": 4,
 "nbformat_minor": 5
}
