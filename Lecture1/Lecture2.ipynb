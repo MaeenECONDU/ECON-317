{
 "cells": [
  {
   "cell_type": "markdown",
   "id": "fe354d5f-dcac-4bee-8234-595d46a9e562",
   "metadata": {},
   "source": [
    "#### Tuple\n",
    "* ordered sequence"
   ]
  },
  {
   "cell_type": "code",
   "execution_count": 39,
   "id": "b0b22208-8458-4260-9b46-b1d999c8786b",
   "metadata": {},
   "outputs": [],
   "source": [
    "tuple1 = (8, 5, 1, 2, 5, 5)"
   ]
  },
  {
   "cell_type": "code",
   "execution_count": null,
   "id": "c7da00f1-3c58-4ac2-aec4-7e666a60f92d",
   "metadata": {},
   "outputs": [],
   "source": []
  },
  {
   "cell_type": "code",
   "execution_count": null,
   "id": "477dd47f-87a0-4291-9fbe-d156ad5b27fd",
   "metadata": {},
   "outputs": [],
   "source": []
  },
  {
   "cell_type": "markdown",
   "id": "4ee3a267-32e4-4891-a1a2-d560f4b7c6bd",
   "metadata": {},
   "source": [
    "#### Built-In function\n",
    "* sorted()\n",
    "* round()\n",
    "* help(round)\n",
    "* enumerate()\n",
    "* max()\n",
    "* min()\n",
    "* sum()\n",
    "* abs()\n",
    "* print()\n",
    "* set()\n",
    "* list()\n",
    "* tuple()\n",
    "* float()\n",
    "* len()\n",
    "* type()\n",
    "* float()\n",
    "* int()\n",
    "\n",
    "Reference: https://docs.python.org/3/library/functions.html\n"
   ]
  },
  {
   "cell_type": "code",
   "execution_count": null,
   "id": "0b60036a-ce9b-43df-b043-8253c28eea28",
   "metadata": {},
   "outputs": [],
   "source": []
  },
  {
   "cell_type": "code",
   "execution_count": null,
   "id": "0011fd01-c041-47d0-a0a5-6667c135219a",
   "metadata": {},
   "outputs": [],
   "source": []
  },
  {
   "cell_type": "code",
   "execution_count": null,
   "id": "6ac28ae0-1c99-4e80-923d-db94e3d102e3",
   "metadata": {},
   "outputs": [],
   "source": []
  },
  {
   "cell_type": "code",
   "execution_count": null,
   "id": "b05a59c6-1183-412e-8f01-f0f622603d8e",
   "metadata": {},
   "outputs": [],
   "source": []
  },
  {
   "cell_type": "code",
   "execution_count": null,
   "id": "401e5c42-8de3-4776-a768-b4847400b051",
   "metadata": {},
   "outputs": [],
   "source": []
  },
  {
   "cell_type": "code",
   "execution_count": null,
   "id": "e2bdac9c-e3cd-4e4c-a50a-6e7e9787610a",
   "metadata": {},
   "outputs": [],
   "source": []
  },
  {
   "cell_type": "code",
   "execution_count": null,
   "id": "aac6fc0d-3111-4634-a47d-a2f2395a72a7",
   "metadata": {},
   "outputs": [],
   "source": []
  },
  {
   "cell_type": "markdown",
   "id": "5e4854c3-7385-420a-bf18-960b718e7ab4",
   "metadata": {},
   "source": [
    "### F string\n",
    "print(f\"..........\")"
   ]
  },
  {
   "cell_type": "code",
   "execution_count": 89,
   "id": "e367c17b-b5e0-47d2-8567-b664b54fdce6",
   "metadata": {},
   "outputs": [],
   "source": [
    "course = \"ECON 317\""
   ]
  },
  {
   "cell_type": "code",
   "execution_count": 92,
   "id": "3a4400a4-52e7-4299-9b57-059b57dd8376",
   "metadata": {},
   "outputs": [
    {
     "name": "stdout",
     "output_type": "stream",
     "text": [
      "This course is ECON 317.\n"
     ]
    }
   ],
   "source": [
    "print(\"This course is\" + \" \" + \"ECON 317\" + \".\")"
   ]
  },
  {
   "cell_type": "code",
   "execution_count": 94,
   "id": "cc198935-708d-42c2-ba91-0c5d0537f3a9",
   "metadata": {},
   "outputs": [
    {
     "name": "stdout",
     "output_type": "stream",
     "text": [
      "This course is: ECON 317.\n"
     ]
    }
   ],
   "source": [
    "print(f\"This course is: {course}.\")"
   ]
  },
  {
   "cell_type": "code",
   "execution_count": 95,
   "id": "42a8161e-9641-4735-bbcb-83edce4f7465",
   "metadata": {},
   "outputs": [
    {
     "name": "stdout",
     "output_type": "stream",
     "text": [
      "City: Dhaka\n"
     ]
    }
   ],
   "source": [
    "city = \"Dhaka\"\n",
    "print(f\"City: {city}\")"
   ]
  },
  {
   "cell_type": "code",
   "execution_count": null,
   "id": "36b357a0-8cf2-4920-b5f9-8420ce8522b8",
   "metadata": {},
   "outputs": [],
   "source": []
  },
  {
   "cell_type": "code",
   "execution_count": null,
   "id": "3bd54229-c5a6-4fbc-ab37-ae1bfd6b5abe",
   "metadata": {},
   "outputs": [],
   "source": []
  },
  {
   "cell_type": "markdown",
   "id": "e39b432f-13e8-4aa9-9ce2-51736d604046",
   "metadata": {},
   "source": [
    "### Dictionary "
   ]
  },
  {
   "cell_type": "code",
   "execution_count": 58,
   "id": "78ecf2a6-7aaf-4170-8d37-aea36674618e",
   "metadata": {},
   "outputs": [],
   "source": [
    "gdp_growth = [6.5, 4.2, 5.0]\n",
    "countries = [\"india\", \"bangladesh\", \"china\"]"
   ]
  },
  {
   "cell_type": "code",
   "execution_count": 59,
   "id": "5922c8ac-6e0c-4dfa-84c1-85095356e216",
   "metadata": {},
   "outputs": [],
   "source": [
    "bd = countries.index(\"bangladesh\")"
   ]
  },
  {
   "cell_type": "code",
   "execution_count": 60,
   "id": "24de9c01-0def-47c4-b1ca-0c0c961e9033",
   "metadata": {},
   "outputs": [
    {
     "data": {
      "text/plain": [
       "4.2"
      ]
     },
     "execution_count": 60,
     "metadata": {},
     "output_type": "execute_result"
    }
   ],
   "source": [
    "gdp_growth[bd]"
   ]
  },
  {
   "cell_type": "markdown",
   "id": "fdff1178-d3df-419f-be12-03784c2a8023",
   "metadata": {},
   "source": [
    "This is how we can find the GDP growth rate of a specific country. But this is neither convenient nor intuitive. "
   ]
  },
  {
   "cell_type": "code",
   "execution_count": 61,
   "id": "d1a78571-169a-45ba-91fd-180508b26600",
   "metadata": {},
   "outputs": [],
   "source": [
    "world = {\"india\":6.5, \"bangladesh\":4.2, \"china\":5.0}"
   ]
  },
  {
   "cell_type": "code",
   "execution_count": 62,
   "id": "323c1590-400e-4479-9bcc-9ddc0d33582e",
   "metadata": {},
   "outputs": [
    {
     "data": {
      "text/plain": [
       "4.2"
      ]
     },
     "execution_count": 62,
     "metadata": {},
     "output_type": "execute_result"
    }
   ],
   "source": [
    "world[\"bangladesh\"]"
   ]
  },
  {
   "cell_type": "code",
   "execution_count": null,
   "id": "b3044364-aed0-4450-ad8c-34b9fb4a233b",
   "metadata": {},
   "outputs": [],
   "source": [
    "Keys have to immutable, so keys can never be lists. But values can be lists. "
   ]
  },
  {
   "cell_type": "code",
   "execution_count": 63,
   "id": "4ed588e7-62f5-4b5a-9b10-1a3ca685bb52",
   "metadata": {},
   "outputs": [
    {
     "data": {
      "text/plain": [
       "{'india': 6.5, 'bangladesh': 4.2}"
      ]
     },
     "execution_count": 63,
     "metadata": {},
     "output_type": "execute_result"
    }
   ],
   "source": [
    "del(world[\"china\"])\n",
    "world"
   ]
  },
  {
   "cell_type": "code",
   "execution_count": null,
   "id": "03c1f72c-f292-4079-9907-eee55b5d87b0",
   "metadata": {},
   "outputs": [],
   "source": []
  },
  {
   "cell_type": "markdown",
   "id": "f94eeb03-896f-4407-a8c1-3c0e4501607e",
   "metadata": {},
   "source": [
    "### Conditional Statements\n",
    "* if , else , elif"
   ]
  },
  {
   "cell_type": "code",
   "execution_count": 64,
   "id": "fd2c0c55-08f9-4093-81b5-ddb564e70062",
   "metadata": {},
   "outputs": [
    {
     "ename": "IndentationError",
     "evalue": "expected an indented block after 'if' statement on line 2 (2878706004.py, line 3)",
     "output_type": "error",
     "traceback": [
      "\u001b[1;36m  Cell \u001b[1;32mIn[64], line 3\u001b[1;36m\u001b[0m\n\u001b[1;33m    print(\"z is even\")\u001b[0m\n\u001b[1;37m    ^\u001b[0m\n\u001b[1;31mIndentationError\u001b[0m\u001b[1;31m:\u001b[0m expected an indented block after 'if' statement on line 2\n"
     ]
    }
   ],
   "source": [
    "z = 4\n",
    "if z % 2 == 0 : \n",
    "print(\"z is even\")"
   ]
  },
  {
   "cell_type": "code",
   "execution_count": 66,
   "id": "44b01840-ec14-4627-9543-c1f50987c7f4",
   "metadata": {},
   "outputs": [],
   "source": [
    "z = 5\n",
    "if z % 2 == 0 : \n",
    "    print(\"z is even\")"
   ]
  },
  {
   "cell_type": "code",
   "execution_count": 67,
   "id": "03b77b4c-7d17-4434-bffa-449e99930928",
   "metadata": {},
   "outputs": [
    {
     "name": "stdout",
     "output_type": "stream",
     "text": [
      "z is odd\n"
     ]
    }
   ],
   "source": [
    "z = 5\n",
    "if z % 2 == 0 : \n",
    "    print(\"z is even\")\n",
    "else :\n",
    "    print(\"z is odd\")"
   ]
  },
  {
   "cell_type": "code",
   "execution_count": 68,
   "id": "c43f15a4-2683-4d7c-9746-ae782f687c69",
   "metadata": {},
   "outputs": [
    {
     "name": "stdout",
     "output_type": "stream",
     "text": [
      "z is divisible by 3\n"
     ]
    }
   ],
   "source": [
    "z = 3\n",
    "if z % 2 == 0 :\n",
    "    print(\"z is divisible by 2\") \n",
    "elif z % 3 == 0 :\n",
    "    print(\"z is divisible by 3\") \n",
    "else :\n",
    "    print(\"z is neither divisible by 2 nor by 3\")"
   ]
  },
  {
   "cell_type": "markdown",
   "id": "6dfd89f1-382e-4107-9f35-878017366066",
   "metadata": {},
   "source": [
    "### For loop"
   ]
  },
  {
   "cell_type": "code",
   "execution_count": 70,
   "id": "6698beae-8d0c-46a0-9481-8c7a98c17780",
   "metadata": {},
   "outputs": [],
   "source": [
    "fam = [1.73, 1.68, 1.71, 1.89]"
   ]
  },
  {
   "cell_type": "code",
   "execution_count": 71,
   "id": "27af6873-0af8-4e39-ad51-02145b47c30f",
   "metadata": {},
   "outputs": [
    {
     "name": "stdout",
     "output_type": "stream",
     "text": [
      "1.73\n",
      "1.68\n",
      "1.71\n",
      "1.89\n"
     ]
    }
   ],
   "source": [
    "print(fam[0])\n",
    "print(fam[1])\n",
    "print(fam[2])\n",
    "print(fam[3])"
   ]
  },
  {
   "cell_type": "code",
   "execution_count": 78,
   "id": "c751d20e-43f8-4d93-af48-dd24b052790e",
   "metadata": {},
   "outputs": [
    {
     "name": "stdout",
     "output_type": "stream",
     "text": [
      "1.73\n",
      "1.68\n",
      "1.71\n",
      "1.89\n"
     ]
    }
   ],
   "source": [
    "for height in fam :\n",
    "    print(height)"
   ]
  },
  {
   "cell_type": "code",
   "execution_count": 79,
   "id": "3b4afb83-f6ec-4a25-83e5-dcba75703dbd",
   "metadata": {},
   "outputs": [
    {
     "name": "stdout",
     "output_type": "stream",
     "text": [
      "0: 1.73\n",
      "1: 1.68\n",
      "2: 1.71\n",
      "3: 1.89\n"
     ]
    }
   ],
   "source": [
    "for index, height in enumerate(fam) :\n",
    "    print(str(index) + \": \" + str(height))"
   ]
  },
  {
   "cell_type": "code",
   "execution_count": 80,
   "id": "6da0dd6a-7e4d-4399-8851-593dd7996235",
   "metadata": {},
   "outputs": [
    {
     "name": "stdout",
     "output_type": "stream",
     "text": [
      "B\n",
      "A\n",
      "N\n",
      "G\n",
      "L\n",
      "A\n",
      "D\n",
      "E\n",
      "S\n",
      "H\n"
     ]
    }
   ],
   "source": [
    "for i in \"bangladesh\" :\n",
    "    print(i.capitalize())"
   ]
  },
  {
   "cell_type": "code",
   "execution_count": 98,
   "id": "65085c5a-9576-4b66-8101-75f0e0f32209",
   "metadata": {},
   "outputs": [
    {
     "name": "stdout",
     "output_type": "stream",
     "text": [
      "Item 0: soup\n",
      "Item 1: rice\n",
      "Item 2: mutton\n"
     ]
    }
   ],
   "source": [
    "menu = [\"soup\", \"rice\", \"mutton\"]\n",
    "for index, item in enumerate(menu):\n",
    "   print(f\"Item {index}: {item}\")"
   ]
  },
  {
   "cell_type": "markdown",
   "id": "c7ebca9b-ded1-47c3-9927-e3b7e16331e6",
   "metadata": {},
   "source": [
    "#### For loops in case of dictionary\n",
    "* for key, val in my_dict.items() :"
   ]
  },
  {
   "cell_type": "code",
   "execution_count": 81,
   "id": "4ee545ef-bac8-49eb-b849-462dc7c7d269",
   "metadata": {},
   "outputs": [
    {
     "ename": "ValueError",
     "evalue": "too many values to unpack (expected 2)",
     "output_type": "error",
     "traceback": [
      "\u001b[1;31m---------------------------------------------------------------------------\u001b[0m",
      "\u001b[1;31mValueError\u001b[0m                                Traceback (most recent call last)",
      "Cell \u001b[1;32mIn[81], line 2\u001b[0m\n\u001b[0;32m      1\u001b[0m world \u001b[38;5;241m=\u001b[39m {\u001b[38;5;124m\"\u001b[39m\u001b[38;5;124mindia\u001b[39m\u001b[38;5;124m\"\u001b[39m:\u001b[38;5;241m6.5\u001b[39m, \u001b[38;5;124m\"\u001b[39m\u001b[38;5;124mbangladesh\u001b[39m\u001b[38;5;124m\"\u001b[39m:\u001b[38;5;241m4.2\u001b[39m, \u001b[38;5;124m\"\u001b[39m\u001b[38;5;124mchina\u001b[39m\u001b[38;5;124m\"\u001b[39m:\u001b[38;5;241m5.0\u001b[39m}\n\u001b[1;32m----> 2\u001b[0m \u001b[38;5;28;01mfor\u001b[39;00m key, value \u001b[38;5;129;01min\u001b[39;00m world :\n\u001b[0;32m      3\u001b[0m     \u001b[38;5;28mprint\u001b[39m(key \u001b[38;5;241m+\u001b[39m \u001b[38;5;124m\"\u001b[39m\u001b[38;5;124m -- \u001b[39m\u001b[38;5;124m\"\u001b[39m \u001b[38;5;241m+\u001b[39m \u001b[38;5;28mstr\u001b[39m(value))\n",
      "\u001b[1;31mValueError\u001b[0m: too many values to unpack (expected 2)"
     ]
    }
   ],
   "source": [
    "world = {\"india\":6.5, \"bangladesh\":4.2, \"china\":5.0}\n",
    "for key, value in world :\n",
    "    print(key + \" -- \" + str(value))"
   ]
  },
  {
   "cell_type": "code",
   "execution_count": 82,
   "id": "af48907e-3f3d-4803-8b63-4ceb99b9be99",
   "metadata": {},
   "outputs": [
    {
     "name": "stdout",
     "output_type": "stream",
     "text": [
      "india -- 6.5\n",
      "bangladesh -- 4.2\n",
      "china -- 5.0\n"
     ]
    }
   ],
   "source": [
    "for key, value in world.items() :\n",
    "    print(key + \" -- \" + str(value))"
   ]
  },
  {
   "cell_type": "code",
   "execution_count": null,
   "id": "54efbe96-9942-4c96-97f5-d98daae0c2c6",
   "metadata": {},
   "outputs": [],
   "source": []
  },
  {
   "cell_type": "code",
   "execution_count": null,
   "id": "f9d53594-5300-4eb1-8c6f-244c6ba7ea69",
   "metadata": {},
   "outputs": [],
   "source": []
  },
  {
   "cell_type": "code",
   "execution_count": null,
   "id": "2c761df6-9610-4fd7-be6f-c5ee476458fd",
   "metadata": {},
   "outputs": [],
   "source": []
  }
 ],
 "metadata": {
  "kernelspec": {
   "display_name": "Python 3 (ipykernel)",
   "language": "python",
   "name": "python3"
  },
  "language_info": {
   "codemirror_mode": {
    "name": "ipython",
    "version": 3
   },
   "file_extension": ".py",
   "mimetype": "text/x-python",
   "name": "python",
   "nbconvert_exporter": "python",
   "pygments_lexer": "ipython3",
   "version": "3.12.7"
  }
 },
 "nbformat": 4,
 "nbformat_minor": 5
}
