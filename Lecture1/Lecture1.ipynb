{
 "cells": [
  {
   "cell_type": "markdown",
   "id": "a332b5f7-d611-4bcb-8086-318e340c06c2",
   "metadata": {},
   "source": [
    "### GitHub\n",
    "![GutHub Octocat](git_icon.jpg \"GutHub Octocat\")\n",
    "\n",
    "* GitHub is a code hosting platform for version control and collaboration\n",
    "* Created in 2005 by Linus Torvalds and Microsoft bought it in 2018\n",
    "\n",
    "#### Getting Started\n",
    "* Creating account on https://github.com/\n",
    "* Options to interact with it, \n",
    "  1.Command line\n",
    "  2.Github Desktop \n",
    "  3.Desktop\n",
    "\n",
    "#### What is Command Line?\n",
    "* Terminal = Console = Power Shell = Command Line = Command Prompt\n",
    "* Platform to access files, run programs, and execute commands\n",
    "* Provides scripts for reproducible workflows across different operating systems"
   ]
  },
  {
   "cell_type": "markdown",
   "id": "fbc960a2-f168-47e8-beaf-0a4a2579faa7",
   "metadata": {},
   "source": [
    "### Jupyter Notebook\n",
    "![Jupyter](jupyter.png \"Jupyter Notebook\")\n",
    "\n",
    "* It is an open-source web platform designed for the creation and sharing of documents that include texts, codes and visual contents.\n",
    "* It supports more than 40 programming languages.\n",
    "* Notebook files have .ipynb extension and can be easily shared in GitHub\n",
    "\n",
    "#### Markdown \n",
    "* It is a markup language that can be converted to HTML or other formats. \n",
    "* Basic rules of markdown [cheatsheet](https://github.com/adam-p/markdown-here/wiki/Markdown-Cheatsheet)\n",
    "\n",
    "#### Launching Jupyter Notebook\n",
    "* Anaconda Navigator, or\n",
    "* Typing 'jupyter notebook' in Terminal/PowerShell "
   ]
  },
  {
   "cell_type": "code",
   "execution_count": null,
   "id": "2f2245d9-3134-42b0-ba7f-01c09d25220b",
   "metadata": {},
   "outputs": [],
   "source": []
  },
  {
   "cell_type": "code",
   "execution_count": null,
   "id": "4bc5a995-be44-4c2a-91fe-cda99d536aca",
   "metadata": {},
   "outputs": [],
   "source": []
  },
  {
   "cell_type": "markdown",
   "id": "6b8b49b1-b718-43cd-8133-bb1f70340795",
   "metadata": {},
   "source": [
    "### Primitive Constructs in Programming Languages"
   ]
  },
  {
   "cell_type": "markdown",
   "id": "e4b6330f-bd4f-4f66-8773-9ef302f60d86",
   "metadata": {},
   "source": [
    "* Literals"
   ]
  },
  {
   "cell_type": "code",
   "execution_count": 1,
   "id": "a4dffb46-d2dd-47cd-a555-86b5c62cf386",
   "metadata": {},
   "outputs": [
    {
     "data": {
      "text/plain": [
       "123"
      ]
     },
     "execution_count": 1,
     "metadata": {},
     "output_type": "execute_result"
    }
   ],
   "source": [
    "123"
   ]
  },
  {
   "cell_type": "code",
   "execution_count": 2,
   "id": "a699fe89-ee1b-4b3b-a997-553cf3e16850",
   "metadata": {},
   "outputs": [
    {
     "data": {
      "text/plain": [
       "'Hello'"
      ]
     },
     "execution_count": 2,
     "metadata": {},
     "output_type": "execute_result"
    }
   ],
   "source": [
    "'Hello'"
   ]
  },
  {
   "cell_type": "markdown",
   "id": "223978c4-be88-46b0-9668-6272632e0fe1",
   "metadata": {},
   "source": [
    "* Infix operators"
   ]
  },
  {
   "cell_type": "code",
   "execution_count": 3,
   "id": "d7493d89-7411-47cb-b53e-2f54100e99ec",
   "metadata": {},
   "outputs": [
    {
     "data": {
      "text/plain": [
       "78.0"
      ]
     },
     "execution_count": 3,
     "metadata": {},
     "output_type": "execute_result"
    }
   ],
   "source": [
    "234/3"
   ]
  },
  {
   "cell_type": "markdown",
   "id": "806354bf-01fd-49f4-bcd6-b22534c941c1",
   "metadata": {},
   "source": [
    "### Syntax: \n",
    "It is the rules for forming strings of characters and symbols. Every rrogramming languages has its unique syntax"
   ]
  },
  {
   "cell_type": "code",
   "execution_count": 4,
   "id": "a11cfe9d-bacb-4002-bd39-fe91207e2f6a",
   "metadata": {},
   "outputs": [
    {
     "data": {
      "text/plain": [
       "510.5"
      ]
     },
     "execution_count": 4,
     "metadata": {},
     "output_type": "execute_result"
    }
   ],
   "source": [
    "510 + 0.5"
   ]
  },
  {
   "cell_type": "code",
   "execution_count": 5,
   "id": "2c5ec5ee-dd78-47e7-9b35-423a1b14d159",
   "metadata": {},
   "outputs": [
    {
     "ename": "SyntaxError",
     "evalue": "invalid syntax (813511822.py, line 1)",
     "output_type": "error",
     "traceback": [
      "\u001b[1;36m  Cell \u001b[1;32mIn[5], line 1\u001b[1;36m\u001b[0m\n\u001b[1;33m    510 0.5\u001b[0m\n\u001b[1;37m        ^\u001b[0m\n\u001b[1;31mSyntaxError\u001b[0m\u001b[1;31m:\u001b[0m invalid syntax\n"
     ]
    }
   ],
   "source": [
    "510 0.5"
   ]
  },
  {
   "cell_type": "markdown",
   "id": "a0269983-5bb1-4190-bbb3-7f7976997c46",
   "metadata": {},
   "source": [
    "### Static Semantics:\n",
    "It is the rules for syntactically valid and meaningsful strings (objects) in a programming language"
   ]
  },
  {
   "cell_type": "code",
   "execution_count": 6,
   "id": "fb6ef41e-818a-4a84-9bb3-05888f94cbb9",
   "metadata": {},
   "outputs": [
    {
     "ename": "TypeError",
     "evalue": "unsupported operand type(s) for /: 'str' and 'int'",
     "output_type": "error",
     "traceback": [
      "\u001b[1;31m---------------------------------------------------------------------------\u001b[0m",
      "\u001b[1;31mTypeError\u001b[0m                                 Traceback (most recent call last)",
      "Cell \u001b[1;32mIn[6], line 1\u001b[0m\n\u001b[1;32m----> 1\u001b[0m \u001b[38;5;124m'\u001b[39m\u001b[38;5;124mEconomics\u001b[39m\u001b[38;5;124m'\u001b[39m\u001b[38;5;241m/\u001b[39m\u001b[38;5;241m4\u001b[39m\n",
      "\u001b[1;31mTypeError\u001b[0m: unsupported operand type(s) for /: 'str' and 'int'"
     ]
    }
   ],
   "source": [
    "'Economics'/4"
   ]
  },
  {
   "cell_type": "code",
   "execution_count": null,
   "id": "9e82e299-1c75-483e-af82-c8fe27098197",
   "metadata": {},
   "outputs": [],
   "source": []
  },
  {
   "cell_type": "code",
   "execution_count": null,
   "id": "55b9466d-0b10-4537-95ae-7205a9df6da5",
   "metadata": {},
   "outputs": [],
   "source": []
  },
  {
   "cell_type": "code",
   "execution_count": null,
   "id": "1edd1b0d-6406-49c3-a218-82b866d97be0",
   "metadata": {},
   "outputs": [],
   "source": []
  },
  {
   "cell_type": "code",
   "execution_count": null,
   "id": "62d7d439-4821-46ef-bcef-cbb9a3163359",
   "metadata": {},
   "outputs": [],
   "source": []
  },
  {
   "cell_type": "code",
   "execution_count": null,
   "id": "b5dea8d2-fccd-4538-8874-7c4e4d0878be",
   "metadata": {},
   "outputs": [],
   "source": []
  }
 ],
 "metadata": {
  "kernelspec": {
   "display_name": "Python 3 (ipykernel)",
   "language": "python",
   "name": "python3"
  },
  "language_info": {
   "codemirror_mode": {
    "name": "ipython",
    "version": 3
   },
   "file_extension": ".py",
   "mimetype": "text/x-python",
   "name": "python",
   "nbconvert_exporter": "python",
   "pygments_lexer": "ipython3",
   "version": "3.12.7"
  }
 },
 "nbformat": 4,
 "nbformat_minor": 5
}
