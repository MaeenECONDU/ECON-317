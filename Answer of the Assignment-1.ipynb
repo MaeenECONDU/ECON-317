{
 "cells": [
  {
   "cell_type": "markdown",
   "id": "9a765839-3e7c-43d7-92f0-e7334b8fbc36",
   "metadata": {},
   "source": [
    "# Problem 1\n",
    "\n",
    "The first paragraph of the book \"Poor Economics\" by Banerjee and Duflo, "
   ]
  },
  {
   "cell_type": "code",
   "execution_count": 5,
   "id": "05969502-2f7c-49ae-873d-6804ab8424f1",
   "metadata": {},
   "outputs": [],
   "source": [
    "text = '''every year, 9million children die before their fifth\n",
    "birthday.   A woman in sub-Saharan Africa has a\n",
    "one-in-thirty chance of dying while giving birth—in\n",
    "the developed world, the chance is one in 5,600.\n",
    "There are at least twenty-five countries, most of\n",
    "them in sub-Saharan Africa, where the average person\n",
    "is expected to live no more than fifty-five years.\n",
    "In india alone, more than 50 million school-going\n",
    "Children cannot read a very simple text.  \n",
    "This is the kind of paragraph that might make you\n",
    "want to shut this book and, ideally  , forget about this\n",
    "whole business of world poverty: The problem\n",
    "seems too big, too intractable. Our goal with this\n",
    "book is to persuade you not to'''"
   ]
  },
  {
   "cell_type": "markdown",
   "id": "1170ce18-9afd-406e-a8fe-87767db102eb",
   "metadata": {},
   "source": [
    "1. Format the text using built in functions so that the text is grammatically correct. \n",
    "2. How many words are there in this paragraph?\n",
    "   Hint: Don't count the punctuations as words. \n",
    "3. How many unique word are there in this text?\n",
    "   Hint: Don't count the punctuations as words.\n",
    "4. How common are certain words - 'is', 'the', 'a', 'year'. \n",
    "   Hint: Create a dictionary with the with the above words as keys and the count of those words as lists and print the answer as,\n",
    "   is appears W times.\n",
    "   the appears X times.\n",
    "   a appears Y times.\n",
    "   year appears Z times.\n",
    "5. Sort the words alphabetically and print the first 20 unique words."
   ]
  },
  {
   "cell_type": "code",
   "execution_count": 9,
   "id": "25d79a11-c0a7-4a64-b64b-65972f9aee2a",
   "metadata": {},
   "outputs": [
    {
     "name": "stdout",
     "output_type": "stream",
     "text": [
      "Every year, 9 million children die before their fifth birthday. A woman in sub-Saharan Africa has a one-in-thirty chance\n",
      "of dying while giving birth—in the developed world, the chance is one in 5,600. There are at least twenty-five\n",
      "countries, most of them in sub-Saharan Africa, where the average person is expected to live no more than fifty-five\n",
      "years. In India alone, more than 50 million school-going children cannot read a very simple text. This is the kind of\n",
      "paragraph that might make you want to shut this book and, ideally, forget about this whole business of world poverty:\n",
      "The problem seems too big, too intractable. Our goal with this book is to persuade you not to\n"
     ]
    }
   ],
   "source": [
    "# Answer of Problem 1\n",
    "import textwrap\n",
    "import re\n",
    "text = '''every year, 9million children die before their fifth\n",
    "birthday.   A woman in sub-Saharan Africa has a\n",
    "one-in-thirty chance of dying while giving birth—in\n",
    "the developed world, the chance is one in 5,600.\n",
    "There are at least twenty-five countries, most of\n",
    "them in sub-Saharan Africa, where the average person\n",
    "is expected to live no more than fifty-five years.\n",
    "In india alone, more than 50 million school-going\n",
    "Children cannot read a very simple text.  \n",
    "This is the kind of paragraph that might make you\n",
    "want to shut this book and, ideally  , forget about this\n",
    "whole business of world poverty: The problem\n",
    "seems too big, too intractable. Our goal with this\n",
    "book is to persuade you not to'''\n",
    "text = text.replace(\"9million\",\"9 million\")\n",
    "text = text.replace(\"india\",\"India\")\n",
    "text = text.replace(\"Children\",\"children\")\n",
    "text = text.strip()\n",
    "sentences = [s.strip()[0].upper() + s.strip()[1:] if s else \"\" for s in re.split(r'(?<=[.!?])\\s+', text)]\n",
    "formatted_text = \" \" .join(sentences)\n",
    "formatted_text = re.sub(r'\\s+([,.:;!?])', r'\\1', formatted_text)\n",
    "print(textwrap.fill(formatted_text,width=120))\n",
    "\n",
    "\n",
    "\n"
   ]
  },
  {
   "cell_type": "code",
   "execution_count": 11,
   "id": "8b0d2e75-3b2a-4bb7-a149-7ef03d8484c8",
   "metadata": {},
   "outputs": [
    {
     "name": "stdout",
     "output_type": "stream",
     "text": [
      "Total number of words: 116\n"
     ]
    }
   ],
   "source": [
    "# Answer of Problem 2\n",
    "import string\n",
    "clean_text = text.translate(str.maketrans(\"\",\"\",string.punctuation))\n",
    "words = clean_text.split()\n",
    "num_words = len(words)\n",
    "print(\"Total number of words:\" , num_words)"
   ]
  },
  {
   "cell_type": "code",
   "execution_count": 12,
   "id": "3bafaa44-9791-4cdc-bd82-90106772893d",
   "metadata": {},
   "outputs": [
    {
     "name": "stdout",
     "output_type": "stream",
     "text": [
      "Total number of unique words: 84\n"
     ]
    }
   ],
   "source": [
    "# Answer of Problem 3\n",
    "import string\n",
    "translator = str.maketrans('','',string.punctuation)\n",
    "clean_text = text.translate(translator)\n",
    "words = clean_text.lower().split()\n",
    "unique_words = set(words)\n",
    "unique_words_count = len (unique_words)\n",
    "print(\"Total number of unique words:\" , unique_words_count)\n",
    "\n"
   ]
  },
  {
   "cell_type": "code",
   "execution_count": 13,
   "id": "8de88e6c-5a35-405b-8418-332e40a7d2c4",
   "metadata": {},
   "outputs": [
    {
     "name": "stdout",
     "output_type": "stream",
     "text": [
      "'is'appears 4times.\n",
      "'the'appears 5times.\n",
      "'a'appears 3times.\n",
      "'year'appears 0times.\n"
     ]
    }
   ],
   "source": [
    "# Answer of Problem 4\n",
    "import string\n",
    "words = text.lower().split()\n",
    "target_words = ['is','the','a','year']\n",
    "counts = {word:words.count(word) for word in target_words}\n",
    "for word in target_words :print(f\"'{word}'appears {counts[word]}times.\")"
   ]
  },
  {
   "cell_type": "code",
   "execution_count": 15,
   "id": "7f929dc1-910e-491b-bf9a-bec0082fa78a",
   "metadata": {},
   "outputs": [
    {
     "name": "stdout",
     "output_type": "stream",
     "text": [
      "First 20 unique words alphabetically: [',', '5,600.', '50', '9', 'a', 'about', 'africa', 'africa,', 'alone,', 'and,', 'are', 'at', 'average', 'before', 'big,', 'birthday.', 'birth—in', 'book', 'business', 'cannot']\n"
     ]
    }
   ],
   "source": [
    "# Answer of Problem 5\n",
    "words = text.lower().split()\n",
    "clean_words = [word.strip(string.punctuation) for word in words]\n",
    "unique_words = set(words)\n",
    "sorted_unique_words = sorted(unique_words)\n",
    "print(\"First 20 unique words alphabetically:\",sorted_unique_words[:20])"
   ]
  },
  {
   "cell_type": "markdown",
   "id": "25d0d8b0-5c8a-43e5-b5c6-dcbc71cf5d91",
   "metadata": {},
   "source": [
    "### Marks Distribution\n",
    "\n",
    "| Problem | Mark     | Comment   \n",
    "|:-------:|:--------:|:----------------------\n",
    "| 1       |   /2    |              \n",
    "| 2       |   /2    | \n",
    "| 3       |   /2    | \n",
    "| 4       |   /3    |\n",
    "| 5       |   /1    |\n",
    " \n",
    "|**Total**|**/10**  | "
   ]
  }
 ],
 "metadata": {
  "kernelspec": {
   "display_name": "Python 3 (ipykernel)",
   "language": "python",
   "name": "python3"
  },
  "language_info": {
   "codemirror_mode": {
    "name": "ipython",
    "version": 3
   },
   "file_extension": ".py",
   "mimetype": "text/x-python",
   "name": "python",
   "nbconvert_exporter": "python",
   "pygments_lexer": "ipython3",
   "version": "3.13.7"
  }
 },
 "nbformat": 4,
 "nbformat_minor": 5
}
